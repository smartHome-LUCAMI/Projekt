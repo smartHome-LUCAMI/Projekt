{
 "cells": [
  {
   "cell_type": "code",
   "execution_count": 1,
   "metadata": {},
   "outputs": [],
   "source": [
    "import numpy as np\n",
    "import pandas as pd\n",
    "import matplotlib.pyplot as plt\n",
    "import datetime\n",
    "import seaborn as sns\n",
    "from hmmlearn import hmm\n",
    "from sklearn.metrics import roc_curve, roc_auc_score\n",
    "from sklearn.model_selection import train_test_split\n",
    "from sklearn.model_selection import ShuffleSplit\n",
    "import functions_data_processing as fsd\n",
    "from sklearn import svm\n",
    "from sklearn.inspection import DecisionBoundaryDisplay\n",
    "import sklearn\n",
    "from sklearn.datasets import make_classification\n",
    "from sklearn.model_selection import train_test_split\n",
    "from sklearn.metrics import accuracy_score\n",
    "from sklearn.metrics import confusion_matrix\n",
    "from sklearn.metrics import auc\n",
    "from itertools import combinations\n",
    "from sklearn.preprocessing import LabelBinarizer\n",
    "from sklearn.model_selection import TimeSeriesSplit\n",
    "import random\n",
    "from sklearn.model_selection import StratifiedKFold\n",
    "from sklearn.model_selection import KFold\n",
    "from sklearn.dummy import DummyClassifier"
   ]
  },
  {
   "cell_type": "code",
   "execution_count": 2,
   "metadata": {},
   "outputs": [],
   "source": [
    "def compute_metrics(y_true, y_predicted):\n",
    "    confusion_matrix = sklearn.metrics.confusion_matrix(y_true, y_predicted)\n",
    "    precision = sklearn.metrics.precision_score(y_true, y_predicted)\n",
    "    recall = sklearn.metrics.recall_score(y_true, y_predicted)\n",
    "    f1 = sklearn.metrics.f1_score(y_true, y_predicted)\n",
    "    accuracy = sklearn.metrics.accuracy_score(y_true, y_predicted)\n",
    "    \n",
    "    return {\"confusion matrix \": confusion_matrix, \"precision \": precision, \"recall \": recall, \"f1 \": f1, \"accuracy \" : accuracy}"
   ]
  },
  {
   "cell_type": "code",
   "execution_count": 3,
   "metadata": {},
   "outputs": [
    {
     "data": {
      "text/html": [
       "<div>\n",
       "<style scoped>\n",
       "    .dataframe tbody tr th:only-of-type {\n",
       "        vertical-align: middle;\n",
       "    }\n",
       "\n",
       "    .dataframe tbody tr th {\n",
       "        vertical-align: top;\n",
       "    }\n",
       "\n",
       "    .dataframe thead th {\n",
       "        text-align: right;\n",
       "    }\n",
       "</style>\n",
       "<table border=\"1\" class=\"dataframe\">\n",
       "  <thead>\n",
       "    <tr style=\"text-align: right;\">\n",
       "      <th></th>\n",
       "      <th>Microwave</th>\n",
       "      <th>Default</th>\n",
       "      <th>Ground Truth</th>\n",
       "      <th>Microwave - Default (combined)</th>\n",
       "      <th>Garage door</th>\n",
       "    </tr>\n",
       "  </thead>\n",
       "  <tbody>\n",
       "    <tr>\n",
       "      <th>2016-01-01 05:00:00</th>\n",
       "      <td>0.0</td>\n",
       "      <td>1.0</td>\n",
       "      <td>1.0</td>\n",
       "      <td>1</td>\n",
       "      <td>0.0</td>\n",
       "    </tr>\n",
       "    <tr>\n",
       "      <th>2016-01-01 05:01:00</th>\n",
       "      <td>0.0</td>\n",
       "      <td>1.0</td>\n",
       "      <td>1.0</td>\n",
       "      <td>1</td>\n",
       "      <td>0.0</td>\n",
       "    </tr>\n",
       "    <tr>\n",
       "      <th>2016-01-01 05:02:00</th>\n",
       "      <td>0.0</td>\n",
       "      <td>1.0</td>\n",
       "      <td>1.0</td>\n",
       "      <td>1</td>\n",
       "      <td>0.0</td>\n",
       "    </tr>\n",
       "    <tr>\n",
       "      <th>2016-01-01 05:03:00</th>\n",
       "      <td>0.0</td>\n",
       "      <td>1.0</td>\n",
       "      <td>1.0</td>\n",
       "      <td>1</td>\n",
       "      <td>0.0</td>\n",
       "    </tr>\n",
       "    <tr>\n",
       "      <th>2016-01-01 05:04:00</th>\n",
       "      <td>0.0</td>\n",
       "      <td>1.0</td>\n",
       "      <td>1.0</td>\n",
       "      <td>1</td>\n",
       "      <td>0.0</td>\n",
       "    </tr>\n",
       "  </tbody>\n",
       "</table>\n",
       "</div>"
      ],
      "text/plain": [
       "                     Microwave  Default  Ground Truth  \\\n",
       "2016-01-01 05:00:00        0.0      1.0           1.0   \n",
       "2016-01-01 05:01:00        0.0      1.0           1.0   \n",
       "2016-01-01 05:02:00        0.0      1.0           1.0   \n",
       "2016-01-01 05:03:00        0.0      1.0           1.0   \n",
       "2016-01-01 05:04:00        0.0      1.0           1.0   \n",
       "\n",
       "                    Microwave - Default (combined)  Garage door  \n",
       "2016-01-01 05:00:00                              1          0.0  \n",
       "2016-01-01 05:01:00                              1          0.0  \n",
       "2016-01-01 05:02:00                              1          0.0  \n",
       "2016-01-01 05:03:00                              1          0.0  \n",
       "2016-01-01 05:04:00                              1          0.0  "
      ]
     },
     "execution_count": 3,
     "metadata": {},
     "output_type": "execute_result"
    }
   ],
   "source": [
    "# Branje datoteke CSV, nastavljanje visokih vrednosti na 1 in nizkih vrednosti na 0 ter izdelava novega stolpca poimenovanega \"Mikrovalovna pečica - Privzeto (združeno)\".\n",
    "\n",
    "df_imported = pd.read_csv(\"df.csv\", index_col=0)\n",
    "df_imported = df_imported\n",
    "df_imported.index = pd.to_datetime(df_imported.index)\n",
    "df = pd.DataFrame()\n",
    "df[\"Microwave\"] = df_imported[\"Microwave\"]\n",
    "df[\"Default\"] = df_imported[\"Default\"]\n",
    "df[\"Ground Truth\"] = df_imported[\"Ground Truth\"]\n",
    "df[\"Microwave - Default (combined)\"] = \"temporary\"\n",
    "df[\"Garage door\"] = df_imported[\"Garage door\"]\n",
    "\n",
    "df = df.mask(df == 0.9, 1)\n",
    "df = df.mask(df == 0.1, 0)\n",
    "\n",
    "mask1 = (df[\"Microwave\"] == 1.0) & (df[\"Default\"] == 1.0)\n",
    "mask2 = (df[\"Microwave\"] == 0.0) & (df[\"Default\"] == 1.0)\n",
    "mask3 = (df[\"Microwave\"] == 0.0) & (df[\"Default\"] == 0.0)\n",
    "mask4 = (df[\"Microwave\"] == 1.0) & (df[\"Default\"] == 0.0)\n",
    "\n",
    "df[\"Microwave - Default (combined)\"] = \"\"\n",
    "df[\"Microwave - Default (combined)\"] = df[\"Microwave - Default (combined)\"].mask(\n",
    "    mask1, 3\n",
    ")\n",
    "df[\"Microwave - Default (combined)\"] = df[\"Microwave - Default (combined)\"].mask(\n",
    "    mask2, 1\n",
    ")\n",
    "df[\"Microwave - Default (combined)\"] = df[\"Microwave - Default (combined)\"].mask(\n",
    "    mask3, 0\n",
    ")\n",
    "df[\"Microwave - Default (combined)\"] = df[\"Microwave - Default (combined)\"].mask(\n",
    "    mask4, 2\n",
    ")\n",
    "df.head()"
   ]
  },
  {
   "cell_type": "code",
   "execution_count": 4,
   "metadata": {},
   "outputs": [],
   "source": [
    "# A function that returns a data frame with a specified interval length and starting date\n",
    "def interval_model(data_frame, starting_date, interval):\n",
    "\n",
    "    s_date = pd.to_datetime(starting_date, format=\"%Y-%m-%d %H:%M:%S.%f\")\n",
    "    data_frame = data_frame.loc[s_date : s_date + interval]\n",
    "    return data_frame"
   ]
  },
  {
   "cell_type": "code",
   "execution_count": 5,
   "metadata": {},
   "outputs": [],
   "source": [
    "# Prvi teden \n",
    "df_sensors_w1 = interval_model(\n",
    "    data_frame=df[\"Microwave - Default (combined)\"],\n",
    "    starting_date=\"2016-01-01 05:00:00\",\n",
    "    interval=datetime.timedelta(days=7),\n",
    ")\n",
    "df_sensors_w1 = df_sensors_w1.astype(int)\n",
    "\n",
    "# Prvi teden ground truth\n",
    "\n",
    "df_truth_w1 = interval_model(\n",
    "    data_frame=df['Ground Truth'],\n",
    "    starting_date=\"2016-01-01 05:00:00\",\n",
    "    interval=datetime.timedelta(days=7),\n",
    ")\n",
    "\n",
    "\n",
    "# Drugi teden\n",
    "\n",
    "\n",
    "df_sensors_w2 = interval_model(\n",
    "    data_frame=df[\"Microwave - Default (combined)\"],\n",
    "    starting_date=\"2016-01-07 05:00:00\",\n",
    "    interval=datetime.timedelta(days=7),\n",
    ")\n",
    "df_sensors_w2 = df_sensors_w2.astype(int)\n",
    "\n",
    "# Drugi teden ground truth\n",
    "df_truth_w2 = interval_model(\n",
    "    data_frame=df[\"Ground Truth\"],\n",
    "    starting_date=\"2016-01-07 05:00:00\",\n",
    "    interval=datetime.timedelta(days=7),\n",
    ")"
   ]
  },
  {
   "cell_type": "markdown",
   "metadata": {},
   "source": [
    "### Week 1"
   ]
  },
  {
   "cell_type": "code",
   "execution_count": 6,
   "metadata": {},
   "outputs": [
    {
     "data": {
      "text/html": [
       "<style>#sk-container-id-1 {color: black;background-color: white;}#sk-container-id-1 pre{padding: 0;}#sk-container-id-1 div.sk-toggleable {background-color: white;}#sk-container-id-1 label.sk-toggleable__label {cursor: pointer;display: block;width: 100%;margin-bottom: 0;padding: 0.3em;box-sizing: border-box;text-align: center;}#sk-container-id-1 label.sk-toggleable__label-arrow:before {content: \"▸\";float: left;margin-right: 0.25em;color: #696969;}#sk-container-id-1 label.sk-toggleable__label-arrow:hover:before {color: black;}#sk-container-id-1 div.sk-estimator:hover label.sk-toggleable__label-arrow:before {color: black;}#sk-container-id-1 div.sk-toggleable__content {max-height: 0;max-width: 0;overflow: hidden;text-align: left;background-color: #f0f8ff;}#sk-container-id-1 div.sk-toggleable__content pre {margin: 0.2em;color: black;border-radius: 0.25em;background-color: #f0f8ff;}#sk-container-id-1 input.sk-toggleable__control:checked~div.sk-toggleable__content {max-height: 200px;max-width: 100%;overflow: auto;}#sk-container-id-1 input.sk-toggleable__control:checked~label.sk-toggleable__label-arrow:before {content: \"▾\";}#sk-container-id-1 div.sk-estimator input.sk-toggleable__control:checked~label.sk-toggleable__label {background-color: #d4ebff;}#sk-container-id-1 div.sk-label input.sk-toggleable__control:checked~label.sk-toggleable__label {background-color: #d4ebff;}#sk-container-id-1 input.sk-hidden--visually {border: 0;clip: rect(1px 1px 1px 1px);clip: rect(1px, 1px, 1px, 1px);height: 1px;margin: -1px;overflow: hidden;padding: 0;position: absolute;width: 1px;}#sk-container-id-1 div.sk-estimator {font-family: monospace;background-color: #f0f8ff;border: 1px dotted black;border-radius: 0.25em;box-sizing: border-box;margin-bottom: 0.5em;}#sk-container-id-1 div.sk-estimator:hover {background-color: #d4ebff;}#sk-container-id-1 div.sk-parallel-item::after {content: \"\";width: 100%;border-bottom: 1px solid gray;flex-grow: 1;}#sk-container-id-1 div.sk-label:hover label.sk-toggleable__label {background-color: #d4ebff;}#sk-container-id-1 div.sk-serial::before {content: \"\";position: absolute;border-left: 1px solid gray;box-sizing: border-box;top: 0;bottom: 0;left: 50%;z-index: 0;}#sk-container-id-1 div.sk-serial {display: flex;flex-direction: column;align-items: center;background-color: white;padding-right: 0.2em;padding-left: 0.2em;position: relative;}#sk-container-id-1 div.sk-item {position: relative;z-index: 1;}#sk-container-id-1 div.sk-parallel {display: flex;align-items: stretch;justify-content: center;background-color: white;position: relative;}#sk-container-id-1 div.sk-item::before, #sk-container-id-1 div.sk-parallel-item::before {content: \"\";position: absolute;border-left: 1px solid gray;box-sizing: border-box;top: 0;bottom: 0;left: 50%;z-index: -1;}#sk-container-id-1 div.sk-parallel-item {display: flex;flex-direction: column;z-index: 1;position: relative;background-color: white;}#sk-container-id-1 div.sk-parallel-item:first-child::after {align-self: flex-end;width: 50%;}#sk-container-id-1 div.sk-parallel-item:last-child::after {align-self: flex-start;width: 50%;}#sk-container-id-1 div.sk-parallel-item:only-child::after {width: 0;}#sk-container-id-1 div.sk-dashed-wrapped {border: 1px dashed gray;margin: 0 0.4em 0.5em 0.4em;box-sizing: border-box;padding-bottom: 0.4em;background-color: white;}#sk-container-id-1 div.sk-label label {font-family: monospace;font-weight: bold;display: inline-block;line-height: 1.2em;}#sk-container-id-1 div.sk-label-container {text-align: center;}#sk-container-id-1 div.sk-container {/* jupyter's `normalize.less` sets `[hidden] { display: none; }` but bootstrap.min.css set `[hidden] { display: none !important; }` so we also need the `!important` here to be able to override the default hidden behavior on the sphinx rendered scikit-learn.org. See: https://github.com/scikit-learn/scikit-learn/issues/21755 */display: inline-block !important;position: relative;}#sk-container-id-1 div.sk-text-repr-fallback {display: none;}</style><div id=\"sk-container-id-1\" class=\"sk-top-container\"><div class=\"sk-text-repr-fallback\"><pre>CategoricalHMM(n_components=2, n_iter=100,\n",
       "               random_state=RandomState(MT19937) at 0x72AC0CFA9540)</pre><b>In a Jupyter environment, please rerun this cell to show the HTML representation or trust the notebook. <br />On GitHub, the HTML representation is unable to render, please try loading this page with nbviewer.org.</b></div><div class=\"sk-container\" hidden><div class=\"sk-item\"><div class=\"sk-estimator sk-toggleable\"><input class=\"sk-toggleable__control sk-hidden--visually\" id=\"sk-estimator-id-1\" type=\"checkbox\" checked><label for=\"sk-estimator-id-1\" class=\"sk-toggleable__label sk-toggleable__label-arrow\">CategoricalHMM</label><div class=\"sk-toggleable__content\"><pre>CategoricalHMM(n_components=2, n_iter=100,\n",
       "               random_state=RandomState(MT19937) at 0x72AC0CFA9540)</pre></div></div></div></div></div>"
      ],
      "text/plain": [
       "CategoricalHMM(n_components=2, n_iter=100,\n",
       "               random_state=RandomState(MT19937) at 0x72AC0CFA9540)"
      ]
     },
     "execution_count": 6,
     "metadata": {},
     "output_type": "execute_result"
    }
   ],
   "source": [
    "model = hmm.CategoricalHMM(n_components=2, n_iter=100, init_params=\"ste\", params=\"ste\")\n",
    "X1 = np.array(df_sensors_w1).reshape(-1, 1)\n",
    "model.fit(X1)"
   ]
  },
  {
   "cell_type": "code",
   "execution_count": 7,
   "metadata": {},
   "outputs": [
    {
     "name": "stdout",
     "output_type": "stream",
     "text": [
      "Starting probabilities\n",
      "  [8.56419081e-35 1.00000000e+00] \n",
      "\n",
      "Transition probabilities\n",
      "  [[0.99848485 0.00151515]\n",
      " [0.00128205 0.99871795]] \n",
      "\n",
      "Emission probabilities\n",
      "  [[9.95887446e-01 6.06961738e-13 4.11255411e-03 2.14220100e-24]\n",
      " [2.11463741e-12 9.87548068e-01 2.85951951e-23 1.24519319e-02]] \n",
      "\n"
     ]
    }
   ],
   "source": [
    "print(\"Starting probabilities\\n \", model.startprob_, \"\\n\")\n",
    "print(\"Transition probabilities\\n \", model.transmat_, \"\\n\")\n",
    "print(\"Emission probabilities\\n \", model.emissionprob_, \"\\n\")"
   ]
  },
  {
   "cell_type": "code",
   "execution_count": 8,
   "metadata": {},
   "outputs": [
    {
     "data": {
      "image/png": "[encoded data removed]",
      "text/plain": [
       "<Figure size 640x480 with 1 Axes>"
      ]
     },
     "metadata": {},
     "output_type": "display_data"
    }
   ],
   "source": [
    "predictions = model.predict_proba(X1)\n",
    "\n",
    "\n",
    "# Compute ROC curve\n",
    "fpr, tpr, thresholds = roc_curve(np.array(df_truth_w1), predictions[:,1], pos_label=1)\n",
    "\n",
    "# Print fpr and tpr\n",
    "# print(\"Fpr \", fpr)\n",
    "# print(\"Tpr \", tpr)\n",
    "\n",
    "# print(thresholds)\n",
    "plt.plot(fpr, tpr)\n",
    "plt.legend(\n",
    "    [\n",
    "        \"ROC AUC Score: {:.2f}\".format(\n",
    "            roc_auc_score(np.array(df_truth_w1), predictions[:, 1])\n",
    "        )\n",
    "    ]\n",
    ")\n",
    "\n",
    "plt.show()"
   ]
  },
  {
   "cell_type": "code",
   "execution_count": 9,
   "metadata": {},
   "outputs": [
    {
     "name": "stdout",
     "output_type": "stream",
     "text": [
      "{'confusion matrix ': array([[3360,    0],\n",
      "       [1260, 5461]]), 'precision ': 1.0, 'recall ': 0.8125278976342806, 'f1 ': 0.8965687079297324, 'accuracy ': 0.8750123995635354}\n"
     ]
    }
   ],
   "source": [
    "print(compute_metrics(np.array(df_truth_w1), model.predict(X1)))"
   ]
  },
  {
   "cell_type": "markdown",
   "metadata": {},
   "source": [
    "What if we build another model, however this time, we take the initial values for the starting, transition and emission probabilities from the learnt values from the previous model?"
   ]
  },
  {
   "cell_type": "code",
   "execution_count": 10,
   "metadata": {},
   "outputs": [
    {
     "data": {
      "text/html": [
       "<style>#sk-container-id-2 {color: black;background-color: white;}#sk-container-id-2 pre{padding: 0;}#sk-container-id-2 div.sk-toggleable {background-color: white;}#sk-container-id-2 label.sk-toggleable__label {cursor: pointer;display: block;width: 100%;margin-bottom: 0;padding: 0.3em;box-sizing: border-box;text-align: center;}#sk-container-id-2 label.sk-toggleable__label-arrow:before {content: \"▸\";float: left;margin-right: 0.25em;color: #696969;}#sk-container-id-2 label.sk-toggleable__label-arrow:hover:before {color: black;}#sk-container-id-2 div.sk-estimator:hover label.sk-toggleable__label-arrow:before {color: black;}#sk-container-id-2 div.sk-toggleable__content {max-height: 0;max-width: 0;overflow: hidden;text-align: left;background-color: #f0f8ff;}#sk-container-id-2 div.sk-toggleable__content pre {margin: 0.2em;color: black;border-radius: 0.25em;background-color: #f0f8ff;}#sk-container-id-2 input.sk-toggleable__control:checked~div.sk-toggleable__content {max-height: 200px;max-width: 100%;overflow: auto;}#sk-container-id-2 input.sk-toggleable__control:checked~label.sk-toggleable__label-arrow:before {content: \"▾\";}#sk-container-id-2 div.sk-estimator input.sk-toggleable__control:checked~label.sk-toggleable__label {background-color: #d4ebff;}#sk-container-id-2 div.sk-label input.sk-toggleable__control:checked~label.sk-toggleable__label {background-color: #d4ebff;}#sk-container-id-2 input.sk-hidden--visually {border: 0;clip: rect(1px 1px 1px 1px);clip: rect(1px, 1px, 1px, 1px);height: 1px;margin: -1px;overflow: hidden;padding: 0;position: absolute;width: 1px;}#sk-container-id-2 div.sk-estimator {font-family: monospace;background-color: #f0f8ff;border: 1px dotted black;border-radius: 0.25em;box-sizing: border-box;margin-bottom: 0.5em;}#sk-container-id-2 div.sk-estimator:hover {background-color: #d4ebff;}#sk-container-id-2 div.sk-parallel-item::after {content: \"\";width: 100%;border-bottom: 1px solid gray;flex-grow: 1;}#sk-container-id-2 div.sk-label:hover label.sk-toggleable__label {background-color: #d4ebff;}#sk-container-id-2 div.sk-serial::before {content: \"\";position: absolute;border-left: 1px solid gray;box-sizing: border-box;top: 0;bottom: 0;left: 50%;z-index: 0;}#sk-container-id-2 div.sk-serial {display: flex;flex-direction: column;align-items: center;background-color: white;padding-right: 0.2em;padding-left: 0.2em;position: relative;}#sk-container-id-2 div.sk-item {position: relative;z-index: 1;}#sk-container-id-2 div.sk-parallel {display: flex;align-items: stretch;justify-content: center;background-color: white;position: relative;}#sk-container-id-2 div.sk-item::before, #sk-container-id-2 div.sk-parallel-item::before {content: \"\";position: absolute;border-left: 1px solid gray;box-sizing: border-box;top: 0;bottom: 0;left: 50%;z-index: -1;}#sk-container-id-2 div.sk-parallel-item {display: flex;flex-direction: column;z-index: 1;position: relative;background-color: white;}#sk-container-id-2 div.sk-parallel-item:first-child::after {align-self: flex-end;width: 50%;}#sk-container-id-2 div.sk-parallel-item:last-child::after {align-self: flex-start;width: 50%;}#sk-container-id-2 div.sk-parallel-item:only-child::after {width: 0;}#sk-container-id-2 div.sk-dashed-wrapped {border: 1px dashed gray;margin: 0 0.4em 0.5em 0.4em;box-sizing: border-box;padding-bottom: 0.4em;background-color: white;}#sk-container-id-2 div.sk-label label {font-family: monospace;font-weight: bold;display: inline-block;line-height: 1.2em;}#sk-container-id-2 div.sk-label-container {text-align: center;}#sk-container-id-2 div.sk-container {/* jupyter's `normalize.less` sets `[hidden] { display: none; }` but bootstrap.min.css set `[hidden] { display: none !important; }` so we also need the `!important` here to be able to override the default hidden behavior on the sphinx rendered scikit-learn.org. See: https://github.com/scikit-learn/scikit-learn/issues/21755 */display: inline-block !important;position: relative;}#sk-container-id-2 div.sk-text-repr-fallback {display: none;}</style><div id=\"sk-container-id-2\" class=\"sk-top-container\"><div class=\"sk-text-repr-fallback\"><pre>CategoricalHMM(init_params=&#x27;&#x27;, n_components=2, n_iter=100,\n",
       "               random_state=RandomState(MT19937) at 0x72AC0CFA9540)</pre><b>In a Jupyter environment, please rerun this cell to show the HTML representation or trust the notebook. <br />On GitHub, the HTML representation is unable to render, please try loading this page with nbviewer.org.</b></div><div class=\"sk-container\" hidden><div class=\"sk-item\"><div class=\"sk-estimator sk-toggleable\"><input class=\"sk-toggleable__control sk-hidden--visually\" id=\"sk-estimator-id-2\" type=\"checkbox\" checked><label for=\"sk-estimator-id-2\" class=\"sk-toggleable__label sk-toggleable__label-arrow\">CategoricalHMM</label><div class=\"sk-toggleable__content\"><pre>CategoricalHMM(init_params=&#x27;&#x27;, n_components=2, n_iter=100,\n",
       "               random_state=RandomState(MT19937) at 0x72AC0CFA9540)</pre></div></div></div></div></div>"
      ],
      "text/plain": [
       "CategoricalHMM(init_params='', n_components=2, n_iter=100,\n",
       "               random_state=RandomState(MT19937) at 0x72AC0CFA9540)"
      ]
     },
     "execution_count": 10,
     "metadata": {},
     "output_type": "execute_result"
    }
   ],
   "source": [
    "model_with_initial = hmm.CategoricalHMM(n_components=2, n_iter=100, init_params=\"\", params=\"ste\")\n",
    "model_with_initial.startprob_ = model.startprob_\n",
    "model_with_initial.transmat_ = model.transmat_\n",
    "model_with_initial.emissionprob_ = model.emissionprob_\n",
    "model_with_initial.fit(X1)"
   ]
  },
  {
   "cell_type": "code",
   "execution_count": 11,
   "metadata": {},
   "outputs": [
    {
     "name": "stdout",
     "output_type": "stream",
     "text": [
      "Starting probabilities\n",
      "  [2.28617742e-67 1.00000000e+00] \n",
      "\n",
      "Transition probabilities\n",
      "  [[0.99848485 0.00151515]\n",
      " [0.00128205 0.99871795]] \n",
      "\n",
      "Emission probabilities\n",
      "  [[9.95887446e-01 5.72194115e-18 4.11255411e-03 1.13519932e-35]\n",
      " [1.40373151e-17 9.87548068e-01 7.76943913e-35 1.24519319e-02]] \n",
      "\n"
     ]
    }
   ],
   "source": [
    "print(\"Starting probabilities\\n \", model_with_initial.startprob_, \"\\n\")\n",
    "print(\"Transition probabilities\\n \", model_with_initial.transmat_, \"\\n\")\n",
    "print(\"Emission probabilities\\n \", model_with_initial.emissionprob_, \"\\n\")"
   ]
  },
  {
   "cell_type": "markdown",
   "metadata": {},
   "source": [
    "### Week 2"
   ]
  },
  {
   "cell_type": "code",
   "execution_count": 12,
   "metadata": {},
   "outputs": [
    {
     "data": {
      "text/html": [
       "<style>#sk-container-id-3 {color: black;background-color: white;}#sk-container-id-3 pre{padding: 0;}#sk-container-id-3 div.sk-toggleable {background-color: white;}#sk-container-id-3 label.sk-toggleable__label {cursor: pointer;display: block;width: 100%;margin-bottom: 0;padding: 0.3em;box-sizing: border-box;text-align: center;}#sk-container-id-3 label.sk-toggleable__label-arrow:before {content: \"▸\";float: left;margin-right: 0.25em;color: #696969;}#sk-container-id-3 label.sk-toggleable__label-arrow:hover:before {color: black;}#sk-container-id-3 div.sk-estimator:hover label.sk-toggleable__label-arrow:before {color: black;}#sk-container-id-3 div.sk-toggleable__content {max-height: 0;max-width: 0;overflow: hidden;text-align: left;background-color: #f0f8ff;}#sk-container-id-3 div.sk-toggleable__content pre {margin: 0.2em;color: black;border-radius: 0.25em;background-color: #f0f8ff;}#sk-container-id-3 input.sk-toggleable__control:checked~div.sk-toggleable__content {max-height: 200px;max-width: 100%;overflow: auto;}#sk-container-id-3 input.sk-toggleable__control:checked~label.sk-toggleable__label-arrow:before {content: \"▾\";}#sk-container-id-3 div.sk-estimator input.sk-toggleable__control:checked~label.sk-toggleable__label {background-color: #d4ebff;}#sk-container-id-3 div.sk-label input.sk-toggleable__control:checked~label.sk-toggleable__label {background-color: #d4ebff;}#sk-container-id-3 input.sk-hidden--visually {border: 0;clip: rect(1px 1px 1px 1px);clip: rect(1px, 1px, 1px, 1px);height: 1px;margin: -1px;overflow: hidden;padding: 0;position: absolute;width: 1px;}#sk-container-id-3 div.sk-estimator {font-family: monospace;background-color: #f0f8ff;border: 1px dotted black;border-radius: 0.25em;box-sizing: border-box;margin-bottom: 0.5em;}#sk-container-id-3 div.sk-estimator:hover {background-color: #d4ebff;}#sk-container-id-3 div.sk-parallel-item::after {content: \"\";width: 100%;border-bottom: 1px solid gray;flex-grow: 1;}#sk-container-id-3 div.sk-label:hover label.sk-toggleable__label {background-color: #d4ebff;}#sk-container-id-3 div.sk-serial::before {content: \"\";position: absolute;border-left: 1px solid gray;box-sizing: border-box;top: 0;bottom: 0;left: 50%;z-index: 0;}#sk-container-id-3 div.sk-serial {display: flex;flex-direction: column;align-items: center;background-color: white;padding-right: 0.2em;padding-left: 0.2em;position: relative;}#sk-container-id-3 div.sk-item {position: relative;z-index: 1;}#sk-container-id-3 div.sk-parallel {display: flex;align-items: stretch;justify-content: center;background-color: white;position: relative;}#sk-container-id-3 div.sk-item::before, #sk-container-id-3 div.sk-parallel-item::before {content: \"\";position: absolute;border-left: 1px solid gray;box-sizing: border-box;top: 0;bottom: 0;left: 50%;z-index: -1;}#sk-container-id-3 div.sk-parallel-item {display: flex;flex-direction: column;z-index: 1;position: relative;background-color: white;}#sk-container-id-3 div.sk-parallel-item:first-child::after {align-self: flex-end;width: 50%;}#sk-container-id-3 div.sk-parallel-item:last-child::after {align-self: flex-start;width: 50%;}#sk-container-id-3 div.sk-parallel-item:only-child::after {width: 0;}#sk-container-id-3 div.sk-dashed-wrapped {border: 1px dashed gray;margin: 0 0.4em 0.5em 0.4em;box-sizing: border-box;padding-bottom: 0.4em;background-color: white;}#sk-container-id-3 div.sk-label label {font-family: monospace;font-weight: bold;display: inline-block;line-height: 1.2em;}#sk-container-id-3 div.sk-label-container {text-align: center;}#sk-container-id-3 div.sk-container {/* jupyter's `normalize.less` sets `[hidden] { display: none; }` but bootstrap.min.css set `[hidden] { display: none !important; }` so we also need the `!important` here to be able to override the default hidden behavior on the sphinx rendered scikit-learn.org. See: https://github.com/scikit-learn/scikit-learn/issues/21755 */display: inline-block !important;position: relative;}#sk-container-id-3 div.sk-text-repr-fallback {display: none;}</style><div id=\"sk-container-id-3\" class=\"sk-top-container\"><div class=\"sk-text-repr-fallback\"><pre>CategoricalHMM(n_components=2, n_iter=100,\n",
       "               random_state=RandomState(MT19937) at 0x72AC0CFA9540)</pre><b>In a Jupyter environment, please rerun this cell to show the HTML representation or trust the notebook. <br />On GitHub, the HTML representation is unable to render, please try loading this page with nbviewer.org.</b></div><div class=\"sk-container\" hidden><div class=\"sk-item\"><div class=\"sk-estimator sk-toggleable\"><input class=\"sk-toggleable__control sk-hidden--visually\" id=\"sk-estimator-id-3\" type=\"checkbox\" checked><label for=\"sk-estimator-id-3\" class=\"sk-toggleable__label sk-toggleable__label-arrow\">CategoricalHMM</label><div class=\"sk-toggleable__content\"><pre>CategoricalHMM(n_components=2, n_iter=100,\n",
       "               random_state=RandomState(MT19937) at 0x72AC0CFA9540)</pre></div></div></div></div></div>"
      ],
      "text/plain": [
       "CategoricalHMM(n_components=2, n_iter=100,\n",
       "               random_state=RandomState(MT19937) at 0x72AC0CFA9540)"
      ]
     },
     "execution_count": 12,
     "metadata": {},
     "output_type": "execute_result"
    }
   ],
   "source": [
    "model2 = hmm.CategoricalHMM(n_components=2, n_iter=100, init_params=\"ste\", params=\"ste\")\n",
    "\n",
    "X2 = np.array(df_sensors_w2).reshape(-1, 1)\n",
    "model2.fit(X2)"
   ]
  },
  {
   "cell_type": "code",
   "execution_count": 13,
   "metadata": {},
   "outputs": [
    {
     "name": "stdout",
     "output_type": "stream",
     "text": [
      "Starting probabilities\n",
      "  [4.4699597e-38 1.0000000e+00] \n",
      "\n",
      "Transition probabilities\n",
      "  [[0.99848485 0.00151515]\n",
      " [0.00128205 0.99871795]] \n",
      "\n",
      "Emission probabilities\n",
      "  [[9.95670996e-01 1.00660064e-12 4.32900433e-03 4.33483271e-28]\n",
      " [2.34419266e-15 9.95238967e-01 2.19632852e-29 4.76103278e-03]] \n",
      "\n"
     ]
    }
   ],
   "source": [
    "print(\"Starting probabilities\\n \", model2.startprob_, \"\\n\")\n",
    "print(\"Transition probabilities\\n \", model2.transmat_, \"\\n\")\n",
    "print(\"Emission probabilities\\n \", model2.emissionprob_, \"\\n\")"
   ]
  },
  {
   "cell_type": "code",
   "execution_count": 14,
   "metadata": {},
   "outputs": [
    {
     "name": "stdout",
     "output_type": "stream",
     "text": [
      "[2.00000000e+00 1.00000000e+00 1.00000000e+00 2.35493445e-15\n",
      " 2.35493445e-15 2.35493445e-15 4.58728740e-21 4.58728740e-21\n",
      " 4.58728740e-21 4.58728740e-21 4.58728740e-21 4.58728740e-21\n",
      " 9.88525290e-33 9.88525290e-33 9.88525290e-33]\n"
     ]
    },
    {
     "data": {
      "image/png": "[encoded data removed]",
      "text/plain": [
       "<Figure size 640x480 with 1 Axes>"
      ]
     },
     "metadata": {},
     "output_type": "display_data"
    }
   ],
   "source": [
    "predictions2 = model2.predict_proba(X2)\n",
    "\n",
    "\n",
    "# Compute ROC curve\n",
    "fpr, tpr, thresholds = roc_curve(np.array(df_truth_w2), predictions2[:, 1], pos_label=1)\n",
    "\n",
    "# Print fpr and tpr\n",
    "# print(\"Fpr \", fpr)\n",
    "# print(\"Tpr \", tpr)\n",
    "\n",
    "print(thresholds)\n",
    "plt.plot(fpr, tpr)\n",
    "plt.legend(\n",
    "    [\n",
    "        \"ROC AUC Score: {:.2f}\".format(\n",
    "            roc_auc_score(np.array(df_truth_w2), predictions2[:, 1])\n",
    "        )\n",
    "    ]\n",
    ")\n",
    "\n",
    "plt.show()"
   ]
  },
  {
   "cell_type": "code",
   "execution_count": 15,
   "metadata": {},
   "outputs": [
    {
     "name": "stdout",
     "output_type": "stream",
     "text": [
      "{'confusion matrix ': array([[3360,    0],\n",
      "       [1260, 5461]]), 'precision ': 1.0, 'recall ': 0.8125278976342806, 'f1 ': 0.8965687079297324, 'accuracy ': 0.8750123995635354}\n"
     ]
    }
   ],
   "source": [
    "print(compute_metrics(np.array(df_truth_w2), model2.predict(X2)))"
   ]
  },
  {
   "cell_type": "code",
   "execution_count": 16,
   "metadata": {},
   "outputs": [
    {
     "data": {
      "text/plain": [
       "array([1.19695775e-18, 1.19695775e-18, 1.19695775e-18])"
      ]
     },
     "execution_count": 16,
     "metadata": {},
     "output_type": "execute_result"
    }
   ],
   "source": [
    "predictions[[1,3,5]][:, 0]"
   ]
  },
  {
   "cell_type": "markdown",
   "metadata": {},
   "source": [
    "An important question we have is whether we will get stable results in a cross validation scenario:"
   ]
  },
  {
   "cell_type": "code",
   "execution_count": 26,
   "metadata": {},
   "outputs": [
    {
     "ename": "TypeError",
     "evalue": "StratifiedKFold.split() missing 1 required positional argument: 'y'",
     "output_type": "error",
     "traceback": [
      "\u001b[0;31m---------------------------------------------------------------------------\u001b[0m",
      "\u001b[0;31mTypeError\u001b[0m                                 Traceback (most recent call last)",
      "Cell \u001b[0;32mIn[26], line 8\u001b[0m\n\u001b[1;32m      5\u001b[0m st \u001b[38;5;241m=\u001b[39m StratifiedKFold(n_splits\u001b[38;5;241m=\u001b[39m\u001b[38;5;241m5\u001b[39m)\n\u001b[1;32m      6\u001b[0m legend_labels \u001b[38;5;241m=\u001b[39m []\n\u001b[0;32m----> 8\u001b[0m \u001b[38;5;28;01mfor\u001b[39;00m i, (train_index, test_index) \u001b[38;5;129;01min\u001b[39;00m \u001b[38;5;28menumerate\u001b[39m(\u001b[43mst\u001b[49m\u001b[38;5;241;43m.\u001b[39;49m\u001b[43msplit\u001b[49m\u001b[43m(\u001b[49m\u001b[43mX1\u001b[49m\u001b[43m)\u001b[49m):\n\u001b[1;32m      9\u001b[0m     \u001b[38;5;28mprint\u001b[39m(\u001b[38;5;124m\"\u001b[39m\u001b[38;5;124mFold \u001b[39m\u001b[38;5;124m\"\u001b[39m, i)\n\u001b[1;32m     11\u001b[0m     model_cross\u001b[38;5;241m.\u001b[39mfit(X1[train_index])\n",
      "\u001b[0;31mTypeError\u001b[0m: StratifiedKFold.split() missing 1 required positional argument: 'y'"
     ]
    }
   ],
   "source": [
    "model_cross = hmm.CategoricalHMM(n_components=2, n_iter=100, init_params=\"\", params=\"ste\", random_state=105)\n",
    "\n",
    "\n",
    "tscv = TimeSeriesSplit(n_splits=5, test_size=1000)\n",
    "st = StratifiedKFold(n_splits=5)\n",
    "legend_labels = []\n",
    "\n",
    "for i, (train_index, test_index) in enumerate(st.split(X1, np.array(df_truth_w1))):\n",
    "    print(\"Fold \", i)\n",
    "\n",
    "    model_cross.fit(X1[train_index])\n",
    "    print(\"Starting probabilities\\n \", model_cross.startprob_, \"\\n\")\n",
    "    print(\"Transition probabilities\\n \", model_cross.transmat_, \"\\n\")\n",
    "    print(\"Emission probabilities\\n \", model_cross.emissionprob_, \"\\n\")\n",
    "    # print(compute_metrics(np.array(df_truth_w1)[test_index], model_cross.predict(X1[test_index])))\n",
    "\n",
    "    predictions_cross = model.predict_proba(X1)[test_index]\n",
    "\n",
    "    # Compute ROC curve\n",
    "    fpr, tpr, thresholds = roc_curve(np.array(df_truth_w1)[test_index], predictions_cross[:, 1], pos_label=1)\n",
    "\n",
    "    # Print fpr and tpr\n",
    "    # print(\"Fpr \", fpr)\n",
    "    # print(\"Tpr \", tpr)\n",
    "\n",
    "    # print(thresholds)\n",
    "    plt.plot(fpr, tpr)\n",
    "    auc_score = roc_auc_score(\n",
    "        np.array(df_truth_w1)[test_index], predictions_cross[:, 1]\n",
    "    )\n",
    "    legend_labels.append(f\"Fold {i}, ROC AUC Score: {auc_score:.2f}\")\n",
    "\n",
    "plt.xlabel(\"False Positive Rate\")\n",
    "plt.ylabel(\"True Positive Rate\")\n",
    "plt.title(\"Receiver Operating Characteristic (ROC) Curve\")\n",
    "plt.legend(legend_labels)"
   ]
  },
  {
   "cell_type": "markdown",
   "metadata": {},
   "source": [
    "Perhaps we can try a supervised type approach such that we find the optimal seed for the random seed for the Dirchlet distribution in order to optimize a certain metric like accuracy, precision, f1 etc."
   ]
  },
  {
   "cell_type": "code",
   "execution_count": 18,
   "metadata": {},
   "outputs": [
    {
     "name": "stderr",
     "output_type": "stream",
     "text": [
      "/home/nikola/.local/lib/python3.10/site-packages/sklearn/metrics/_classification.py:1344: UndefinedMetricWarning: Precision is ill-defined and being set to 0.0 due to no predicted samples. Use `zero_division` parameter to control this behavior.\n",
      "  _warn_prf(average, modifier, msg_start, len(result))\n",
      "/home/nikola/.local/lib/python3.10/site-packages/sklearn/metrics/_classification.py:1344: UndefinedMetricWarning: Precision is ill-defined and being set to 0.0 due to no predicted samples. Use `zero_division` parameter to control this behavior.\n",
      "  _warn_prf(average, modifier, msg_start, len(result))\n"
     ]
    }
   ],
   "source": [
    "acc = []\n",
    "for i in range(1, 2^32):\n",
    "    model_opt = hmm.CategoricalHMM(n_components=2, n_iter=100, init_params=\"\", params=\"ste\", random_state=i)\n",
    "    model_opt.fit(X1)\n",
    "    acc.append(compute_metrics(np.array(df_truth_w1), model_opt.predict(X1))[\"accuracy \"])"
   ]
  },
  {
   "cell_type": "code",
   "execution_count": 19,
   "metadata": {},
   "outputs": [
    {
     "name": "stdout",
     "output_type": "stream",
     "text": [
      "0.8750123995635354\n",
      "9\n"
     ]
    }
   ],
   "source": [
    "print(np.max(acc))\n",
    "print(acc.index(np.max(acc)))"
   ]
  },
  {
   "cell_type": "code",
   "execution_count": null,
   "metadata": {},
   "outputs": [],
   "source": []
  }
 ],
 "metadata": {
  "kernelspec": {
   "display_name": "Python 3",
   "language": "python",
   "name": "python3"
  },
  "language_info": {
   "codemirror_mode": {
    "name": "ipython",
    "version": 3
   },
   "file_extension": ".py",
   "mimetype": "text/x-python",
   "name": "python",
   "nbconvert_exporter": "python",
   "pygments_lexer": "ipython3",
   "version": "3.10.12"
  }
 },
 "nbformat": 4,
 "nbformat_minor": 2
}
