{
 "cells": [
  {
   "cell_type": "code",
   "execution_count": 81,
   "metadata": {},
   "outputs": [],
   "source": [
    "import pandas as pd\n",
    "import numpy as np\n",
    "import matplotlib.pyplot as plt\n",
    "import seaborn as sns\n",
    "import time\n",
    "from scipy.stats import norm\n",
    "from pgmpy.estimators import ParameterEstimator\n",
    "from pgmpy.models import BayesianNetwork\n",
    "from pgmpy.factors.discrete.CPD import TabularCPD\n",
    "from pgmpy.estimators import MaximumLikelihoodEstimator\n",
    "from pgmpy.models import MarkovChain as MC\n",
    "import functions_data_processing as fdp\n",
    "from pgmpy.factors.discrete import State"
   ]
  },
  {
   "attachments": {},
   "cell_type": "markdown",
   "metadata": {},
   "source": [
    "<font size ='6'>Bayesian Network (common cause inference) </font>\n",
    "<br>\n",
    "<font size ='4'>We can look at it as a Hidden Markov Model, where the hidden variable is the 'Ground Truth' and the obeservables are the 'Microwave' and 'Default' </font>\n",
    "<br>\n",
    "> P ['Microwave'| 'Ground Truth'] =?\n",
    "<br>\n",
    "> P ['Default'| 'Ground Truth'] =?"
   ]
  },
  {
   "cell_type": "code",
   "execution_count": 82,
   "metadata": {},
   "outputs": [
    {
     "data": {
      "text/html": [
       "<div>\n",
       "<style scoped>\n",
       "    .dataframe tbody tr th:only-of-type {\n",
       "        vertical-align: middle;\n",
       "    }\n",
       "\n",
       "    .dataframe tbody tr th {\n",
       "        vertical-align: top;\n",
       "    }\n",
       "\n",
       "    .dataframe thead th {\n",
       "        text-align: right;\n",
       "    }\n",
       "</style>\n",
       "<table border=\"1\" class=\"dataframe\">\n",
       "  <thead>\n",
       "    <tr style=\"text-align: right;\">\n",
       "      <th></th>\n",
       "      <th>Microwave</th>\n",
       "      <th>Default</th>\n",
       "      <th>Microwave-Default</th>\n",
       "      <th>Ground Truth</th>\n",
       "      <th>Probability</th>\n",
       "    </tr>\n",
       "  </thead>\n",
       "  <tbody>\n",
       "    <tr>\n",
       "      <th>2016-01-01 05:00:00</th>\n",
       "      <td>0.1</td>\n",
       "      <td>0.9</td>\n",
       "      <td>0.9</td>\n",
       "      <td>0.9</td>\n",
       "      <td>0.067772</td>\n",
       "    </tr>\n",
       "    <tr>\n",
       "      <th>2016-01-01 05:01:00</th>\n",
       "      <td>0.1</td>\n",
       "      <td>0.9</td>\n",
       "      <td>0.9</td>\n",
       "      <td>0.9</td>\n",
       "      <td>0.067772</td>\n",
       "    </tr>\n",
       "    <tr>\n",
       "      <th>2016-01-01 05:02:00</th>\n",
       "      <td>0.1</td>\n",
       "      <td>0.9</td>\n",
       "      <td>0.9</td>\n",
       "      <td>0.9</td>\n",
       "      <td>0.067772</td>\n",
       "    </tr>\n",
       "    <tr>\n",
       "      <th>2016-01-01 05:03:00</th>\n",
       "      <td>0.1</td>\n",
       "      <td>0.9</td>\n",
       "      <td>0.9</td>\n",
       "      <td>0.9</td>\n",
       "      <td>0.067772</td>\n",
       "    </tr>\n",
       "    <tr>\n",
       "      <th>2016-01-01 05:04:00</th>\n",
       "      <td>0.1</td>\n",
       "      <td>0.9</td>\n",
       "      <td>0.9</td>\n",
       "      <td>0.9</td>\n",
       "      <td>0.067772</td>\n",
       "    </tr>\n",
       "  </tbody>\n",
       "</table>\n",
       "</div>"
      ],
      "text/plain": [
       "                     Microwave  Default  Microwave-Default  Ground Truth  \\\n",
       "2016-01-01 05:00:00        0.1      0.9                0.9           0.9   \n",
       "2016-01-01 05:01:00        0.1      0.9                0.9           0.9   \n",
       "2016-01-01 05:02:00        0.1      0.9                0.9           0.9   \n",
       "2016-01-01 05:03:00        0.1      0.9                0.9           0.9   \n",
       "2016-01-01 05:04:00        0.1      0.9                0.9           0.9   \n",
       "\n",
       "                     Probability  \n",
       "2016-01-01 05:00:00     0.067772  \n",
       "2016-01-01 05:01:00     0.067772  \n",
       "2016-01-01 05:02:00     0.067772  \n",
       "2016-01-01 05:03:00     0.067772  \n",
       "2016-01-01 05:04:00     0.067772  "
      ]
     },
     "execution_count": 82,
     "metadata": {},
     "output_type": "execute_result"
    }
   ],
   "source": [
    "df = pd.read_csv('df.csv', index_col=0)\n",
    "df.index = pd.to_datetime(df.index)\n",
    "df.head(5)\n"
   ]
  },
  {
   "cell_type": "code",
   "execution_count": 83,
   "metadata": {},
   "outputs": [
    {
     "name": "stdout",
     "output_type": "stream",
     "text": [
      "\n",
      "      Ground Truth\n",
      "0.1        168000\n",
      "0.9        335910\n",
      "\n",
      " Ground Truth     0.1     0.9\n",
      "Microwave                   \n",
      "0.1           166492  333443\n",
      "0.9             1508    2467\n",
      "\n",
      " Ground Truth       0.1       0.9\n",
      "Default                         \n",
      "0.1           168000.0   63000.0\n",
      "0.9                0.0  272910.0\n"
     ]
    }
   ],
   "source": [
    "model = BayesianNetwork([('Ground Truth', 'Microwave'), ('Ground Truth', 'Default')])  # Default <- Ground Truth -> Microwave\n",
    "pe = ParameterEstimator(model = model, data = df)\n",
    "print(\"\\n\", pe.state_counts('Ground Truth'))  # unconditional\n",
    "print(\"\\n\", pe.state_counts('Microwave'))  # conditional on Ground Truth\n",
    "print(\"\\n\", pe.state_counts('Default'))  # conditional on Ground Truth"
   ]
  },
  {
   "attachments": {},
   "cell_type": "markdown",
   "metadata": {},
   "source": [
    "> Maximum likelihood estimator -> it is prone to overfitting "
   ]
  },
  {
   "cell_type": "code",
   "execution_count": 84,
   "metadata": {},
   "outputs": [
    {
     "name": "stdout",
     "output_type": "stream",
     "text": [
      "+-------------------+----------+\n",
      "| Ground Truth(0.1) | 0.333393 |\n",
      "+-------------------+----------+\n",
      "| Ground Truth(0.9) | 0.666607 |\n",
      "+-------------------+----------+\n",
      "+--------------+-------------------+---------------------+\n",
      "| Ground Truth | Ground Truth(0.1) | Ground Truth(0.9)   |\n",
      "+--------------+-------------------+---------------------+\n",
      "| Default(0.1) | 1.0               | 0.18755023667053675 |\n",
      "+--------------+-------------------+---------------------+\n",
      "| Default(0.9) | 0.0               | 0.8124497633294633  |\n",
      "+--------------+-------------------+---------------------+\n",
      "+----------------+----------------------+----------------------+\n",
      "| Ground Truth   | Ground Truth(0.1)    | Ground Truth(0.9)    |\n",
      "+----------------+----------------------+----------------------+\n",
      "| Microwave(0.1) | 0.9910238095238095   | 0.9926557708910124   |\n",
      "+----------------+----------------------+----------------------+\n",
      "| Microwave(0.9) | 0.008976190476190476 | 0.007344229108987526 |\n",
      "+----------------+----------------------+----------------------+\n"
     ]
    }
   ],
   "source": [
    "\n",
    "mle = MaximumLikelihoodEstimator(model = model, data = df)\n",
    "print(mle.estimate_cpd('Ground Truth'))  # unconditional\n",
    "print(mle.estimate_cpd('Default'))  # conditional\n",
    "print(mle.estimate_cpd('Microwave'))  # conditional"
   ]
  },
  {
   "attachments": {},
   "cell_type": "markdown",
   "metadata": {},
   "source": [
    "<font size ='6'>Markov chain </font>\n",
    "<br> <font size ='4'>The two states are 'Present' and 'Absent' </font>"
   ]
  },
  {
   "cell_type": "code",
   "execution_count": 85,
   "metadata": {},
   "outputs": [
    {
     "name": "stdout",
     "output_type": "stream",
     "text": [
      "0.004166666666666667 0.9958333333333333 0.9979161022777002 0.0020838977222997893\n"
     ]
    }
   ],
   "source": [
    "df_temp = pd.DataFrame()\n",
    "df_temp['Ground Truth'] = df['Ground Truth'].iloc[1:]\n",
    "df = df.drop(df.tail(1).index)\n",
    "df_temp.index = df_temp.index - pd.Timedelta(1 , 'min')\n",
    "mask_00 = ((df['Ground Truth']==0.1) & (df_temp['Ground Truth']==0.1))\n",
    "mask_11 = ((df['Ground Truth']==0.9) & (df_temp['Ground Truth']==0.9))\n",
    "mask_01 = ((df_temp['Ground Truth']==0.1) & (df['Ground Truth']==0.9))\n",
    "mask_10 = ((df['Ground Truth']==0.9) & (df_temp['Ground Truth']==0.1))\n",
    "\n",
    "n_01 = (mask_01==True).sum()\n",
    "n_00 = (mask_00==True).sum()\n",
    "n_10 = (mask_10==True).sum()\n",
    "n_11 = (mask_11==True).sum()\n",
    "\n",
    "n = n_01 + n_00 + n_11 + n_10\n",
    "\n",
    "p_01 = n_01 / (n_01 + n_00)\n",
    "p_00 = n_00 / (n_01 + n_00)\n",
    "p_11 = n_11 / (n_10 + n_11)\n",
    "p_10 = n_10 / (n_10 + n_11)\n",
    "print(p_01, p_00, p_11, p_10)\n"
   ]
  },
  {
   "cell_type": "code",
   "execution_count": 86,
   "metadata": {},
   "outputs": [],
   "source": [
    "model = MC()\n",
    "model.add_variables_from(['Ground Truth'], [2])\n",
    "presence_tm = {0: {0: p_00, 1: p_01}, 1: {0: p_10, 1: p_11}}\n",
    "model.add_transition_model('Ground Truth', presence_tm)\n",
    "#model.set_start_state([State('Ground Truth', 0)])"
   ]
  },
  {
   "cell_type": "code",
   "execution_count": 87,
   "metadata": {},
   "outputs": [],
   "source": [
    "\n",
    "def time_evolution(transitional_prob_matrix, start_state_matrix, number_of_steps):\n",
    "    prob = np.ones([2, 1])\n",
    "    data = np.ones([2, number_of_steps])\n",
    "\n",
    "    for i in range(number_of_steps):\n",
    "        prob = transitional_prob_matrix @ start_state_matrix\n",
    "        data[:, i] = prob.ravel()\n",
    "        start_state_matrix = prob\n",
    "\n",
    "    sns.set_style(\"whitegrid\")\n",
    "    sns.lineplot(data=data.T)\n",
    "    plt.xlabel('Number of steps')\n",
    "    plt.ylabel('Probability')\n",
    "\n",
    "    standard_err = np.sqrt(np.multiply((1 - transitional_prob_matrix), transitional_prob_matrix) / number_of_steps)\n",
    "\n",
    "    z = norm.ppf(1 - 0.05 / 2)\n",
    "    lower_bound = transitional_prob_matrix - z * standard_err\n",
    "    upper_bound = transitional_prob_matrix + z * standard_err\n",
    "\n",
    "    conf_interval = np.ones(transitional_prob_matrix.shape, dtype=tuple)\n",
    "    for i in range(transitional_prob_matrix.shape[0]):\n",
    "        for j in range(transitional_prob_matrix.shape[1]):\n",
    "            conf_interval[i, j] = (lower_bound[i, j], upper_bound[i, j])\n",
    "\n",
    "    return prob, standard_err, conf_interval\n",
    "\n",
    "    "
   ]
  },
  {
   "cell_type": "code",
   "execution_count": 88,
   "metadata": {},
   "outputs": [
    {
     "name": "stdout",
     "output_type": "stream",
     "text": [
      "Probability:\n",
      "  [[0.33465467]\n",
      " [0.66534533]]\n",
      "Standard error:\n",
      "  [[0.00203698 0.00144207]\n",
      " [0.00203698 0.00144207]]\n",
      "Confidence intervals:\n",
      "  [[(0.9918409172194815, 0.9998257494471852)\n",
      "  (-0.0007425002067826532, 0.004910295651382231)]\n",
      " [(0.00017425055281480167, 0.008159082780518532)\n",
      "  (0.9950897043486178, 1.0007425002067827)]]\n"
     ]
    },
    {
     "data": {
      "image/png": "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",
      "text/plain": [
       "<Figure size 640x480 with 1 Axes>"
      ]
     },
     "metadata": {},
     "output_type": "display_data"
    }
   ],
   "source": [
    "transitional_prob_matrix=np.matrix([[p_00, p_01], [p_10, p_11]]).T\n",
    "prob, err, conf_inter = time_evolution(transitional_prob_matrix=transitional_prob_matrix, start_state_matrix=np.matrix([[1], [0]]), number_of_steps=1000)\n",
    "print(\"Probability:\\n \", prob)\n",
    "print(\"Standard error:\\n \", err)\n",
    "print(\"Confidence intervals:\\n \", conf_inter)\n"
   ]
  },
  {
   "cell_type": "code",
   "execution_count": 89,
   "metadata": {},
   "outputs": [],
   "source": [
    "P=np.array([[p_00, p_01], [p_10, p_11]])\n",
    "las, vecs = np.linalg.eig(P.T)"
   ]
  },
  {
   "cell_type": "code",
   "execution_count": 90,
   "metadata": {},
   "outputs": [],
   "source": [
    "v=vecs[:,1]"
   ]
  },
  {
   "cell_type": "code",
   "execution_count": 91,
   "metadata": {},
   "outputs": [
    {
     "data": {
      "text/plain": [
       "array([-0.44731051, -0.89437873])"
      ]
     },
     "execution_count": 91,
     "metadata": {},
     "output_type": "execute_result"
    }
   ],
   "source": [
    "v"
   ]
  },
  {
   "cell_type": "code",
   "execution_count": 92,
   "metadata": {},
   "outputs": [
    {
     "data": {
      "text/plain": [
       "array([0.33339353, 0.66660647])"
      ]
     },
     "execution_count": 92,
     "metadata": {},
     "output_type": "execute_result"
    }
   ],
   "source": [
    "v/sum(v)"
   ]
  },
  {
   "cell_type": "code",
   "execution_count": 93,
   "metadata": {},
   "outputs": [
    {
     "name": "stdout",
     "output_type": "stream",
     "text": [
      "[[6]\n",
      " [8]]\n",
      "[[-1]\n",
      " [-1]]\n"
     ]
    }
   ],
   "source": [
    "print(np.multiply(np.matrix([[2], [2]]), np.matrix([[3], [4]])))\n",
    "print(1 - np.matrix([[2], [2]]))\n"
   ]
  },
  {
   "cell_type": "code",
   "execution_count": null,
   "metadata": {},
   "outputs": [],
   "source": []
  }
 ],
 "metadata": {
  "kernelspec": {
<<<<<<< HEAD
   "display_name": "Python 3 (ipykernel)",
=======
   "display_name": "Python 3",
>>>>>>> aae33e6cc4d7c07670467f04d5580648fa1eab47
   "language": "python",
   "name": "python3"
  },
  "language_info": {
   "codemirror_mode": {
    "name": "ipython",
    "version": 3
   },
   "file_extension": ".py",
   "mimetype": "text/x-python",
   "name": "python",
   "nbconvert_exporter": "python",
   "pygments_lexer": "ipython3",
   "version": "3.10.6"
<<<<<<< HEAD
  }
=======
  },
  "orig_nbformat": 4
>>>>>>> aae33e6cc4d7c07670467f04d5580648fa1eab47
 },
 "nbformat": 4,
 "nbformat_minor": 2
}
