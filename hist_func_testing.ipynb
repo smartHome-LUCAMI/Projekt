{
 "cells": [
  {
   "cell_type": "code",
   "execution_count": 2,
   "metadata": {},
   "outputs": [],
   "source": [
    "import histogram_functions as hf\n",
    "import pandas as pd\n",
    "import seaborn as sns\n",
    "import matplotlib.pyplot as plt\n",
    "import numpy as np"
   ]
  },
  {
   "cell_type": "code",
   "execution_count": 87,
   "metadata": {},
   "outputs": [
    {
     "data": {
      "text/html": [
       "<div>\n",
       "<style scoped>\n",
       "    .dataframe tbody tr th:only-of-type {\n",
       "        vertical-align: middle;\n",
       "    }\n",
       "\n",
       "    .dataframe tbody tr th {\n",
       "        vertical-align: top;\n",
       "    }\n",
       "\n",
       "    .dataframe thead th {\n",
       "        text-align: right;\n",
       "    }\n",
       "</style>\n",
       "<table border=\"1\" class=\"dataframe\">\n",
       "  <thead>\n",
       "    <tr style=\"text-align: right;\">\n",
       "      <th></th>\n",
       "      <th>Microwave</th>\n",
       "      <th>Default</th>\n",
       "      <th>Ground Truth</th>\n",
       "      <th>Microwave - Default (combined)</th>\n",
       "      <th>Garage door</th>\n",
       "    </tr>\n",
       "  </thead>\n",
       "  <tbody>\n",
       "    <tr>\n",
       "      <th>2016-01-01 06:55:00</th>\n",
       "      <td>0.0</td>\n",
       "      <td>1.0</td>\n",
       "      <td>1.0</td>\n",
       "      <td>01</td>\n",
       "      <td>0.0</td>\n",
       "    </tr>\n",
       "    <tr>\n",
       "      <th>2016-01-01 06:56:00</th>\n",
       "      <td>0.0</td>\n",
       "      <td>1.0</td>\n",
       "      <td>1.0</td>\n",
       "      <td>01</td>\n",
       "      <td>0.0</td>\n",
       "    </tr>\n",
       "    <tr>\n",
       "      <th>2016-01-01 06:57:00</th>\n",
       "      <td>0.0</td>\n",
       "      <td>1.0</td>\n",
       "      <td>1.0</td>\n",
       "      <td>01</td>\n",
       "      <td>0.0</td>\n",
       "    </tr>\n",
       "    <tr>\n",
       "      <th>2016-01-01 06:58:00</th>\n",
       "      <td>0.0</td>\n",
       "      <td>1.0</td>\n",
       "      <td>1.0</td>\n",
       "      <td>01</td>\n",
       "      <td>0.0</td>\n",
       "    </tr>\n",
       "    <tr>\n",
       "      <th>2016-01-01 06:59:00</th>\n",
       "      <td>0.0</td>\n",
       "      <td>1.0</td>\n",
       "      <td>1.0</td>\n",
       "      <td>01</td>\n",
       "      <td>0.0</td>\n",
       "    </tr>\n",
       "    <tr>\n",
       "      <th>2016-01-01 07:00:00</th>\n",
       "      <td>0.0</td>\n",
       "      <td>0.0</td>\n",
       "      <td>0.0</td>\n",
       "      <td>00</td>\n",
       "      <td>0.0</td>\n",
       "    </tr>\n",
       "    <tr>\n",
       "      <th>2016-01-01 07:01:00</th>\n",
       "      <td>0.0</td>\n",
       "      <td>0.0</td>\n",
       "      <td>0.0</td>\n",
       "      <td>00</td>\n",
       "      <td>0.0</td>\n",
       "    </tr>\n",
       "    <tr>\n",
       "      <th>2016-01-01 07:02:00</th>\n",
       "      <td>0.0</td>\n",
       "      <td>0.0</td>\n",
       "      <td>0.0</td>\n",
       "      <td>00</td>\n",
       "      <td>0.0</td>\n",
       "    </tr>\n",
       "    <tr>\n",
       "      <th>2016-01-01 07:03:00</th>\n",
       "      <td>0.0</td>\n",
       "      <td>0.0</td>\n",
       "      <td>0.0</td>\n",
       "      <td>00</td>\n",
       "      <td>0.0</td>\n",
       "    </tr>\n",
       "    <tr>\n",
       "      <th>2016-01-01 07:04:00</th>\n",
       "      <td>0.0</td>\n",
       "      <td>0.0</td>\n",
       "      <td>0.0</td>\n",
       "      <td>00</td>\n",
       "      <td>0.0</td>\n",
       "    </tr>\n",
       "  </tbody>\n",
       "</table>\n",
       "</div>"
      ],
      "text/plain": [
       "                     Microwave  Default  Ground Truth  \\\n",
       "2016-01-01 06:55:00        0.0      1.0           1.0   \n",
       "2016-01-01 06:56:00        0.0      1.0           1.0   \n",
       "2016-01-01 06:57:00        0.0      1.0           1.0   \n",
       "2016-01-01 06:58:00        0.0      1.0           1.0   \n",
       "2016-01-01 06:59:00        0.0      1.0           1.0   \n",
       "2016-01-01 07:00:00        0.0      0.0           0.0   \n",
       "2016-01-01 07:01:00        0.0      0.0           0.0   \n",
       "2016-01-01 07:02:00        0.0      0.0           0.0   \n",
       "2016-01-01 07:03:00        0.0      0.0           0.0   \n",
       "2016-01-01 07:04:00        0.0      0.0           0.0   \n",
       "\n",
       "                    Microwave - Default (combined)  Garage door  \n",
       "2016-01-01 06:55:00                             01          0.0  \n",
       "2016-01-01 06:56:00                             01          0.0  \n",
       "2016-01-01 06:57:00                             01          0.0  \n",
       "2016-01-01 06:58:00                             01          0.0  \n",
       "2016-01-01 06:59:00                             01          0.0  \n",
       "2016-01-01 07:00:00                             00          0.0  \n",
       "2016-01-01 07:01:00                             00          0.0  \n",
       "2016-01-01 07:02:00                             00          0.0  \n",
       "2016-01-01 07:03:00                             00          0.0  \n",
       "2016-01-01 07:04:00                             00          0.0  "
      ]
     },
     "execution_count": 87,
     "metadata": {},
     "output_type": "execute_result"
    }
   ],
   "source": [
    "df_imported = pd.read_csv(\"df.csv\", index_col=0)\n",
    "df_imported = df_imported\n",
    "df_imported.index = pd.to_datetime(df_imported.index)\n",
    "df = pd.DataFrame()\n",
    "df[\"Microwave\"] = df_imported[\"Microwave\"]\n",
    "df[\"Default\"] = df_imported[\"Default\"]\n",
    "df[\"Ground Truth\"] = df_imported[\"Ground Truth\"]\n",
    "df[\"Microwave - Default (combined)\"] = \"temporary\"\n",
    "df[\"Garage door\"] = df_imported[\"Garage door\"]\n",
    "\n",
    "df = df.mask(df == 0.9, 1)\n",
    "df = df.mask(df == 0.1, 0)\n",
    "\n",
    "mask1 = (df[\"Microwave\"] == 1.0) & (df[\"Default\"] == 1.0)\n",
    "mask2 = (df[\"Microwave\"] == 0.0) & (df[\"Default\"] == 1.0)\n",
    "mask3 = (df[\"Microwave\"] == 0.0) & (df[\"Default\"] == 0.0)\n",
    "mask4 = (df[\"Microwave\"] == 1.0) & (df[\"Default\"] == 0.0)\n",
    "\n",
    "df[\"Microwave - Default (combined)\"] = \"\"\n",
    "df[\"Microwave - Default (combined)\"] = df[\"Microwave - Default (combined)\"].mask(\n",
    "    mask1, \"11\"\n",
    ")\n",
    "df[\"Microwave - Default (combined)\"] = df[\"Microwave - Default (combined)\"].mask(\n",
    "    mask2, \"01\"\n",
    ")\n",
    "df[\"Microwave - Default (combined)\"] = df[\"Microwave - Default (combined)\"].mask(\n",
    "    mask3, \"00\"\n",
    ")\n",
    "df[\"Microwave - Default (combined)\"] = df[\"Microwave - Default (combined)\"].mask(\n",
    "    mask4, \"10\"\n",
    ")\n",
    "df.iloc[115:125]"
   ]
  },
  {
   "cell_type": "code",
   "execution_count": 78,
   "metadata": {},
   "outputs": [
    {
     "data": {
      "text/html": [
       "<div>\n",
       "<style scoped>\n",
       "    .dataframe tbody tr th:only-of-type {\n",
       "        vertical-align: middle;\n",
       "    }\n",
       "\n",
       "    .dataframe tbody tr th {\n",
       "        vertical-align: top;\n",
       "    }\n",
       "\n",
       "    .dataframe thead th {\n",
       "        text-align: right;\n",
       "    }\n",
       "</style>\n",
       "<table border=\"1\" class=\"dataframe\">\n",
       "  <thead>\n",
       "    <tr style=\"text-align: right;\">\n",
       "      <th></th>\n",
       "      <th>Microwave</th>\n",
       "      <th>Default</th>\n",
       "      <th>Ground Truth</th>\n",
       "      <th>Microwave - Default (combined)</th>\n",
       "      <th>Garage door</th>\n",
       "    </tr>\n",
       "  </thead>\n",
       "  <tbody>\n",
       "    <tr>\n",
       "      <th>2016-01-01 06:40:00</th>\n",
       "      <td>0.0</td>\n",
       "      <td>1.0</td>\n",
       "      <td>1.0</td>\n",
       "      <td>01</td>\n",
       "      <td>0.0</td>\n",
       "    </tr>\n",
       "    <tr>\n",
       "      <th>2016-01-01 06:41:00</th>\n",
       "      <td>0.0</td>\n",
       "      <td>1.0</td>\n",
       "      <td>1.0</td>\n",
       "      <td>01</td>\n",
       "      <td>0.0</td>\n",
       "    </tr>\n",
       "    <tr>\n",
       "      <th>2016-01-01 06:42:00</th>\n",
       "      <td>0.0</td>\n",
       "      <td>1.0</td>\n",
       "      <td>1.0</td>\n",
       "      <td>01</td>\n",
       "      <td>0.0</td>\n",
       "    </tr>\n",
       "    <tr>\n",
       "      <th>2016-01-01 06:43:00</th>\n",
       "      <td>0.0</td>\n",
       "      <td>1.0</td>\n",
       "      <td>1.0</td>\n",
       "      <td>01</td>\n",
       "      <td>0.0</td>\n",
       "    </tr>\n",
       "    <tr>\n",
       "      <th>2016-01-01 06:44:00</th>\n",
       "      <td>0.0</td>\n",
       "      <td>1.0</td>\n",
       "      <td>1.0</td>\n",
       "      <td>01</td>\n",
       "      <td>0.0</td>\n",
       "    </tr>\n",
       "    <tr>\n",
       "      <th>2016-01-01 06:45:00</th>\n",
       "      <td>0.0</td>\n",
       "      <td>1.0</td>\n",
       "      <td>1.0</td>\n",
       "      <td>01</td>\n",
       "      <td>0.0</td>\n",
       "    </tr>\n",
       "    <tr>\n",
       "      <th>2016-01-01 06:46:00</th>\n",
       "      <td>0.0</td>\n",
       "      <td>1.0</td>\n",
       "      <td>1.0</td>\n",
       "      <td>01</td>\n",
       "      <td>0.0</td>\n",
       "    </tr>\n",
       "    <tr>\n",
       "      <th>2016-01-01 06:47:00</th>\n",
       "      <td>0.0</td>\n",
       "      <td>1.0</td>\n",
       "      <td>1.0</td>\n",
       "      <td>01</td>\n",
       "      <td>0.0</td>\n",
       "    </tr>\n",
       "    <tr>\n",
       "      <th>2016-01-01 06:48:00</th>\n",
       "      <td>0.0</td>\n",
       "      <td>1.0</td>\n",
       "      <td>1.0</td>\n",
       "      <td>01</td>\n",
       "      <td>0.0</td>\n",
       "    </tr>\n",
       "    <tr>\n",
       "      <th>2016-01-01 06:49:00</th>\n",
       "      <td>0.0</td>\n",
       "      <td>1.0</td>\n",
       "      <td>1.0</td>\n",
       "      <td>01</td>\n",
       "      <td>0.0</td>\n",
       "    </tr>\n",
       "  </tbody>\n",
       "</table>\n",
       "</div>"
      ],
      "text/plain": [
       "                     Microwave  Default  Ground Truth  \\\n",
       "2016-01-01 06:40:00        0.0      1.0           1.0   \n",
       "2016-01-01 06:41:00        0.0      1.0           1.0   \n",
       "2016-01-01 06:42:00        0.0      1.0           1.0   \n",
       "2016-01-01 06:43:00        0.0      1.0           1.0   \n",
       "2016-01-01 06:44:00        0.0      1.0           1.0   \n",
       "2016-01-01 06:45:00        0.0      1.0           1.0   \n",
       "2016-01-01 06:46:00        0.0      1.0           1.0   \n",
       "2016-01-01 06:47:00        0.0      1.0           1.0   \n",
       "2016-01-01 06:48:00        0.0      1.0           1.0   \n",
       "2016-01-01 06:49:00        0.0      1.0           1.0   \n",
       "\n",
       "                    Microwave - Default (combined)  Garage door  \n",
       "2016-01-01 06:40:00                             01          0.0  \n",
       "2016-01-01 06:41:00                             01          0.0  \n",
       "2016-01-01 06:42:00                             01          0.0  \n",
       "2016-01-01 06:43:00                             01          0.0  \n",
       "2016-01-01 06:44:00                             01          0.0  \n",
       "2016-01-01 06:45:00                             01          0.0  \n",
       "2016-01-01 06:46:00                             01          0.0  \n",
       "2016-01-01 06:47:00                             01          0.0  \n",
       "2016-01-01 06:48:00                             01          0.0  \n",
       "2016-01-01 06:49:00                             01          0.0  "
      ]
     },
     "execution_count": 78,
     "metadata": {},
     "output_type": "execute_result"
    }
   ],
   "source": [
    "df.iloc[100:110, :]"
   ]
  },
  {
   "cell_type": "code",
   "execution_count": 126,
   "metadata": {},
   "outputs": [
    {
     "data": {
      "text/html": [
       "<div>\n",
       "<style scoped>\n",
       "    .dataframe tbody tr th:only-of-type {\n",
       "        vertical-align: middle;\n",
       "    }\n",
       "\n",
       "    .dataframe tbody tr th {\n",
       "        vertical-align: top;\n",
       "    }\n",
       "\n",
       "    .dataframe thead th {\n",
       "        text-align: right;\n",
       "    }\n",
       "</style>\n",
       "<table border=\"1\" class=\"dataframe\">\n",
       "  <thead>\n",
       "    <tr style=\"text-align: right;\">\n",
       "      <th></th>\n",
       "      <th>Microwave</th>\n",
       "      <th>Default</th>\n",
       "      <th>Ground Truth</th>\n",
       "      <th>Microwave - Default (combined)</th>\n",
       "      <th>Garage door</th>\n",
       "    </tr>\n",
       "  </thead>\n",
       "  <tbody>\n",
       "    <tr>\n",
       "      <th>2016-01-01 05:00:00</th>\n",
       "      <td>0.0</td>\n",
       "      <td>1.0</td>\n",
       "      <td>1.0</td>\n",
       "      <td>01</td>\n",
       "      <td>0.0</td>\n",
       "    </tr>\n",
       "    <tr>\n",
       "      <th>2016-01-01 05:01:00</th>\n",
       "      <td>0.0</td>\n",
       "      <td>1.0</td>\n",
       "      <td>1.0</td>\n",
       "      <td>01</td>\n",
       "      <td>0.0</td>\n",
       "    </tr>\n",
       "    <tr>\n",
       "      <th>2016-01-01 05:02:00</th>\n",
       "      <td>0.0</td>\n",
       "      <td>1.0</td>\n",
       "      <td>1.0</td>\n",
       "      <td>01</td>\n",
       "      <td>0.0</td>\n",
       "    </tr>\n",
       "    <tr>\n",
       "      <th>2016-01-01 05:03:00</th>\n",
       "      <td>0.0</td>\n",
       "      <td>1.0</td>\n",
       "      <td>1.0</td>\n",
       "      <td>01</td>\n",
       "      <td>0.0</td>\n",
       "    </tr>\n",
       "    <tr>\n",
       "      <th>2016-01-01 05:04:00</th>\n",
       "      <td>0.0</td>\n",
       "      <td>1.0</td>\n",
       "      <td>1.0</td>\n",
       "      <td>01</td>\n",
       "      <td>0.0</td>\n",
       "    </tr>\n",
       "  </tbody>\n",
       "</table>\n",
       "</div>"
      ],
      "text/plain": [
       "                     Microwave  Default  Ground Truth  \\\n",
       "2016-01-01 05:00:00        0.0      1.0           1.0   \n",
       "2016-01-01 05:01:00        0.0      1.0           1.0   \n",
       "2016-01-01 05:02:00        0.0      1.0           1.0   \n",
       "2016-01-01 05:03:00        0.0      1.0           1.0   \n",
       "2016-01-01 05:04:00        0.0      1.0           1.0   \n",
       "\n",
       "                    Microwave - Default (combined)  Garage door  \n",
       "2016-01-01 05:00:00                             01          0.0  \n",
       "2016-01-01 05:01:00                             01          0.0  \n",
       "2016-01-01 05:02:00                             01          0.0  \n",
       "2016-01-01 05:03:00                             01          0.0  \n",
       "2016-01-01 05:04:00                             01          0.0  "
      ]
     },
     "execution_count": 126,
     "metadata": {},
     "output_type": "execute_result"
    }
   ],
   "source": [
    "df.head()"
   ]
  },
  {
   "cell_type": "code",
   "execution_count": 128,
   "metadata": {},
   "outputs": [
    {
     "data": {
      "text/html": [
       "<div>\n",
       "<style scoped>\n",
       "    .dataframe tbody tr th:only-of-type {\n",
       "        vertical-align: middle;\n",
       "    }\n",
       "\n",
       "    .dataframe tbody tr th {\n",
       "        vertical-align: top;\n",
       "    }\n",
       "\n",
       "    .dataframe thead th {\n",
       "        text-align: right;\n",
       "    }\n",
       "</style>\n",
       "<table border=\"1\" class=\"dataframe\">\n",
       "  <thead>\n",
       "    <tr style=\"text-align: right;\">\n",
       "      <th></th>\n",
       "      <th>Microwave</th>\n",
       "      <th>Default</th>\n",
       "      <th>Ground Truth</th>\n",
       "      <th>Microwave - Default (combined)</th>\n",
       "      <th>Garage door</th>\n",
       "    </tr>\n",
       "  </thead>\n",
       "  <tbody>\n",
       "    <tr>\n",
       "      <th>2016-01-01 07:02:00</th>\n",
       "      <td>0.0</td>\n",
       "      <td>0.0</td>\n",
       "      <td>0.0</td>\n",
       "      <td>00</td>\n",
       "      <td>0.0</td>\n",
       "    </tr>\n",
       "    <tr>\n",
       "      <th>2016-01-01 07:03:00</th>\n",
       "      <td>0.0</td>\n",
       "      <td>0.0</td>\n",
       "      <td>0.0</td>\n",
       "      <td>00</td>\n",
       "      <td>0.0</td>\n",
       "    </tr>\n",
       "  </tbody>\n",
       "</table>\n",
       "</div>"
      ],
      "text/plain": [
       "                     Microwave  Default  Ground Truth  \\\n",
       "2016-01-01 07:02:00        0.0      0.0           0.0   \n",
       "2016-01-01 07:03:00        0.0      0.0           0.0   \n",
       "\n",
       "                    Microwave - Default (combined)  Garage door  \n",
       "2016-01-01 07:02:00                             00          0.0  \n",
       "2016-01-01 07:03:00                             00          0.0  "
      ]
     },
     "execution_count": 128,
     "metadata": {},
     "output_type": "execute_result"
    }
   ],
   "source": [
    "df.iloc[122:124,:]"
   ]
  },
  {
   "cell_type": "code",
   "execution_count": 151,
   "metadata": {},
   "outputs": [],
   "source": [
    "df = df.iloc[:10080, :]"
   ]
  },
  {
   "cell_type": "code",
   "execution_count": 6,
   "metadata": {},
   "outputs": [
    {
     "name": "stdout",
     "output_type": "stream",
     "text": [
      "['00', '01', '10', '11']\n"
     ]
    }
   ],
   "source": [
    "o = [\"00\", \"01\", \"10\", \"11\"]\n",
    "o_states = np.full((4, 1), \"place holder\", dtype=object)\n",
    "o_states = o\n",
    "print(o_states)"
   ]
  },
  {
   "cell_type": "code",
   "execution_count": 156,
   "metadata": {},
   "outputs": [],
   "source": [
    "def observable_observable(data_frame, steps, o_states, observations_col_idx):\n",
    "    st = [None] * (steps + 1)\n",
    "    res = np.full((len(o_states),) * (steps + 1), True, dtype=object)\n",
    "    num = np.full((len(o_states),) * (steps + 1), 0, dtype=int)\n",
    "\n",
    "    for s in range(len(st)):\n",
    "        st[s] = np.full((len(o_states),) * (len(st) - s), \"place holder\", dtype=object)\n",
    "    st[-1] = st[-1][np.newaxis, :]\n",
    "\n",
    "    for i in range(len(data_frame) - steps):\n",
    "        for idx, s in enumerate(np.arange(i, i + (steps + 1))):\n",
    "            temp_list = list(zip(o_states, st[idx]))\n",
    "\n",
    "            if idx == (len(st) - 1):\n",
    "                st[idx] = np.tile(data_frame.iloc[s, observations_col_idx], len(o_states)) == o_states\n",
    "                st[idx] = st[idx][np.newaxis, :]\n",
    "\n",
    "                for a2 in range(0, len(st), 1):\n",
    "                    res = res & st[a2]\n",
    "\n",
    "            else:\n",
    "                for k in range(len(o_states)):\n",
    "                    temp_list[k][1][:] = (\n",
    "                        np.tile(data_frame.iloc[s, observations_col_idx], len(o_states)) == o_states\n",
    "                    )[k]\n",
    "\n",
    "        num = num + res.astype(int)\n",
    "        res[:] = True\n",
    "    return num"
   ]
  },
  {
   "cell_type": "code",
   "execution_count": 154,
   "metadata": {},
   "outputs": [],
   "source": [
    "def hidden_observable(\n",
    "    data_frame, steps, h_states, o_states, hidden_col_idx, observations_col_idx\n",
    "):\n",
    "    st = [None] * (steps + 1)\n",
    "    res = np.full((len(h_states),) * (steps + 1), True, dtype=object)\n",
    "    num = np.full((len(h_states),) * (steps + 1) + (len(o_states),), 0, dtype=int)\n",
    "    obs = np.full(\n",
    "        (len(h_states),) * (steps + 1) + (len(o_states),), \"place holder\", dtype=object\n",
    "    )\n",
    "    observations = np.full((1, len(o_states)), \"place holder\", dtype=object)\n",
    "\n",
    "    for s in range(len(st)):\n",
    "        st[s] = np.full((len(h_states),) * (len(st) - s), \"place holder\", dtype=object)\n",
    "    st[-1] = st[-1][np.newaxis, :]\n",
    "\n",
    "    for i in range(len(data_frame) - steps):\n",
    "        for idx, s in enumerate(np.arange(i, i + (steps + 1))):\n",
    "            temp_list = list(zip(h_states, st[idx]))\n",
    "\n",
    "            if idx == (len(st) - 1):\n",
    "                st[idx] = (\n",
    "                    np.tile(data_frame.iloc[s, hidden_col_idx], len(h_states))\n",
    "                    == h_states\n",
    "                )\n",
    "                st[idx] = st[idx][np.newaxis, :]\n",
    "\n",
    "                for a2 in range(0, len(st), 1):\n",
    "                    res = res & st[a2]\n",
    "\n",
    "                observations = (\n",
    "                    np.tile(data_frame.iloc[s, observations_col_idx], len(o_states))\n",
    "                    == o_states\n",
    "                )\n",
    "            \n",
    "                obs = np.tile(res.reshape(res.shape + (1,)), len(o_states))\n",
    "                obs = obs & observations\n",
    "               \n",
    "\n",
    "            else:\n",
    "                for k in range(len(h_states)):\n",
    "                    temp_list[k][1][:] = (\n",
    "                        np.tile(data_frame.iloc[s, hidden_col_idx], len(h_states))\n",
    "                        == h_states\n",
    "                    )[k]\n",
    "\n",
    "        \n",
    "        num = num + obs.astype(int)\n",
    "        res[:] = True\n",
    "        obs[:] = \"place holder\"\n",
    "    return num"
   ]
  },
  {
   "cell_type": "code",
   "execution_count": 153,
   "metadata": {},
   "outputs": [
    {
     "name": "stdout",
     "output_type": "stream",
     "text": [
      "10078\n"
     ]
    },
    {
     "data": {
      "text/plain": [
       "array([[[3327,    0,   19,    0],\n",
       "        [   7,    7,    0,    0]],\n",
       "\n",
       "       [[  14,    0,    0,    0],\n",
       "        [1253, 5384,    0,   68]]])"
      ]
     },
     "execution_count": 153,
     "metadata": {},
     "output_type": "execute_result"
    }
   ],
   "source": [
    "h_states = [0, 1]\n",
    "hidden_observable(data_frame = df, steps=1, h_states=h_states, o_states=o_states,  hidden_col_idx=2, observations_col_idx=3)"
   ]
  },
  {
   "cell_type": "code",
   "execution_count": 107,
   "metadata": {},
   "outputs": [],
   "source": [
    "def hidden_hidden(data_frame, steps, h_states, hidden_col_idx):\n",
    "    st = [None] * (steps + 1)\n",
    "    res = np.full((len(h_states),) * (steps + 1), True, dtype=object)\n",
    "    num = np.full((len(h_states),) * (steps + 1), 0, dtype=int)\n",
    "\n",
    "    for s in range(len(st)):\n",
    "        st[s] = np.full((len(h_states),) * (len(st) - s), \"place holder\", dtype=object)\n",
    "    st[-1] = st[-1][np.newaxis, :]\n",
    "\n",
    "    for i in range(len(data_frame) - steps):\n",
    "        for idx, s in enumerate(np.arange(i, i + (steps + 1))):\n",
    "            temp_list = list(zip(h_states, st[idx]))\n",
    "\n",
    "            if idx == (len(st) - 1):\n",
    "                st[idx] = (\n",
    "                    np.tile(data_frame.iloc[s, hidden_col_idx], len(h_states))== h_states\n",
    "                )\n",
    "                st[idx] = st[idx][np.newaxis, :]\n",
    "\n",
    "                for a2 in range(0, len(st), 1):\n",
    "                    res = res & st[a2]\n",
    "\n",
    "            else:\n",
    "                for k in range(len(h_states)):\n",
    "                    temp_list[k][1][:] = (\n",
    "                        np.tile(data_frame.iloc[s, hidden_col_idx], len(h_states))\n",
    "                        == h_states\n",
    "                    )[k]\n",
    "\n",
    "        num = num + res.astype(int)\n",
    "        res[:] = True\n",
    "    return num"
   ]
  },
  {
   "cell_type": "code",
   "execution_count": 155,
   "metadata": {},
   "outputs": [
    {
     "data": {
      "text/plain": [
       "array([[[3332,   14],\n",
       "        [   0,   14]],\n",
       "\n",
       "       [[  14,    0],\n",
       "        [  14, 6690]]])"
      ]
     },
     "execution_count": 155,
     "metadata": {},
     "output_type": "execute_result"
    }
   ],
   "source": [
    "h_states = [0,1]\n",
    "hidden_hidden(data_frame=df, steps=2, h_states=h_states, hidden_col_idx=2)"
   ]
  },
  {
   "cell_type": "code",
   "execution_count": 202,
   "metadata": {},
   "outputs": [],
   "source": [
    "testing_matrix = observable_observable(data_frame=df, steps=3, o_states=o_states, observations_col_idx=3)"
   ]
  },
  {
   "cell_type": "code",
   "execution_count": 203,
   "metadata": {},
   "outputs": [
    {
     "name": "stdout",
     "output_type": "stream",
     "text": [
      "[[[[4550    7   10    0]\n",
      "   [   0    7    0    0]\n",
      "   [   6    0    4    0]\n",
      "   [   0    0    0    0]]\n",
      "\n",
      "  [[   0    0    0    0]\n",
      "   [   0    7    0    0]\n",
      "   [   0    0    0    0]\n",
      "   [   0    0    0    0]]\n",
      "\n",
      "  [[   6    0    0    0]\n",
      "   [   0    0    0    0]\n",
      "   [   2    0    2    0]\n",
      "   [   0    0    0    0]]\n",
      "\n",
      "  [[   0    0    0    0]\n",
      "   [   0    0    0    0]\n",
      "   [   0    0    0    0]\n",
      "   [   0    0    0    0]]]\n",
      "\n",
      "\n",
      " [[[   7    0    0    0]\n",
      "   [   0    0    0    0]\n",
      "   [   0    0    0    0]\n",
      "   [   0    0    0    0]]\n",
      "\n",
      "  [[   7    0    0    0]\n",
      "   [   7 5285    0   27]\n",
      "   [   0    0    0    0]\n",
      "   [   0    7    0   20]]\n",
      "\n",
      "  [[   0    0    0    0]\n",
      "   [   0    0    0    0]\n",
      "   [   0    0    0    0]\n",
      "   [   0    0    0    0]]\n",
      "\n",
      "  [[   0    0    0    0]\n",
      "   [   0    7    0    0]\n",
      "   [   0    0    0    0]\n",
      "   [   0   14    0    8]]]\n",
      "\n",
      "\n",
      " [[[  10    0    0    0]\n",
      "   [   0    0    0    0]\n",
      "   [   0    0    0    0]\n",
      "   [   0    0    0    0]]\n",
      "\n",
      "  [[   0    0    0    0]\n",
      "   [   0    0    0    0]\n",
      "   [   0    0    0    0]\n",
      "   [   0    0    0    0]]\n",
      "\n",
      "  [[   4    0    0    0]\n",
      "   [   0    0    0    0]\n",
      "   [   2    0    3    0]\n",
      "   [   0    0    0    0]]\n",
      "\n",
      "  [[   0    0    0    0]\n",
      "   [   0    0    0    0]\n",
      "   [   0    0    0    0]\n",
      "   [   0    0    0    0]]]\n",
      "\n",
      "\n",
      " [[[   0    0    0    0]\n",
      "   [   0    0    0    0]\n",
      "   [   0    0    0    0]\n",
      "   [   0    0    0    0]]\n",
      "\n",
      "  [[   0    0    0    0]\n",
      "   [   0   27    0    0]\n",
      "   [   0    0    0    0]\n",
      "   [   0    0    0    2]]\n",
      "\n",
      "  [[   0    0    0    0]\n",
      "   [   0    0    0    0]\n",
      "   [   0    0    0    0]\n",
      "   [   0    0    0    0]]\n",
      "\n",
      "  [[   0    0    0    0]\n",
      "   [   0   20    0    2]\n",
      "   [   0    0    0    0]\n",
      "   [   0    8    0    9]]]]\n"
     ]
    }
   ],
   "source": [
    "print(testing_matrix)"
   ]
  },
  {
   "cell_type": "code",
   "execution_count": 206,
   "metadata": {},
   "outputs": [],
   "source": [
    "def plot_histogram(matrix, states):\n",
    "    x_dim = np.product(matrix.shape[0])\n",
    "    y_dim = np.product(matrix.shape[1:-1])\n",
    "    print(matrix.shape)\n",
    "\n",
    "    while y_dim >= 5 * x_dim:\n",
    "        i = 2\n",
    "        x_dim = np.product(matrix.shape[:i])\n",
    "        y_dim = np.product(matrix.shape[(i + 1) : -1])\n",
    "        i = i + 1\n",
    "    print(x_dim, y_dim)\n",
    "\n",
    "    fig, axs = plt.subplots(x_dim, y_dim, figsize=(x_dim * 5, y_dim * 2))\n",
    "\n",
    "    matrix = matrix.reshape(x_dim, y_dim, matrix.shape[-1])\n",
    "\n",
    "    for i in range(x_dim):\n",
    "        for j in range(y_dim):\n",
    "            axs[i, j].bar(states, matrix[i, j, :])\n",
    "            \n",
    "       \n",
    "\n",
    "    plt.tight_layout()\n",
    "    plt.show()"
   ]
  },
  {
   "cell_type": "code",
   "execution_count": 207,
   "metadata": {},
   "outputs": [
    {
     "name": "stdout",
     "output_type": "stream",
     "text": [
      "(4, 4, 4, 4)\n",
      "4 16\n"
     ]
    },
    {
     "data": {
      "image/png": "[encoded data removed]",
      "text/plain": [
       "<Figure size 2000x3200 with 64 Axes>"
      ]
     },
     "metadata": {},
     "output_type": "display_data"
    }
   ],
   "source": [
    "plot_histogram(testing_matrix, o_states)"
   ]
  },
  {
   "cell_type": "code",
   "execution_count": null,
   "metadata": {},
   "outputs": [
    {
     "name": "stdout",
     "output_type": "stream",
     "text": [
      "['00', '01', '10', '11']\n",
      "[False  True False False]\n"
     ]
    }
   ],
   "source": [
    "\n",
    "t = ['01']*4\n",
    "t = np.array(t)\n",
    "print(o_states)\n",
    "print(o_states == t)"
   ]
  },
  {
   "cell_type": "code",
   "execution_count": null,
   "metadata": {},
   "outputs": [
    {
     "name": "stdout",
     "output_type": "stream",
     "text": [
      "[9, 8, 7, 6, 5, 4, 3, 2, 1, 0]\n"
     ]
    }
   ],
   "source": [
    "descending_range = range(9, -1, -1)\n",
    "\n",
    "# Convert the range to a list if needed\n",
    "descending_list = list(descending_range)\n",
    "\n",
    "# Print the result\n",
    "print(descending_list)"
   ]
  },
  {
   "cell_type": "code",
   "execution_count": null,
   "metadata": {},
   "outputs": [
    {
     "name": "stdout",
     "output_type": "stream",
     "text": [
      "<class 'list'>\n",
      "[[False  True False False]\n",
      " [False  True False False]\n",
      " [False  True False False]\n",
      " [False  True False False]]\n",
      "[[False False False False]\n",
      " [ True  True  True  True]\n",
      " [False False False False]\n",
      " [False False False False]]\n"
     ]
    }
   ],
   "source": [
    "st = np.full((4, 4, 4), \"place holder\", dtype=object)\n",
    "mt = np.full((4, 4), \"place holder\", dtype=object)\n",
    "bt = np.full((4), \"place holder\", dtype=object)\n",
    "\n",
    "k = list(zip(o_states, st))\n",
    "m = list(zip(o_states, mt))\n",
    "b = list(zip(o_states, bt))\n",
    "\n",
    "\n",
    "for a in range(len(st)):\n",
    "    k[a][1][:] = np.tile(df.iloc[0, 3], len(o_states)) == o_states[a]\n",
    "    m[a][1][:] = np.tile(df.iloc[1, 3], len(o_states)) == o_states\n",
    "\n",
    "\n",
    "b = np.tile(\"11\", len(o_states)) == o_states\n",
    "\n",
    "print(type(m))\n",
    "k = np.array(k, dtype=object)\n",
    "m = np.array(m, dtype=object)\n",
    "\n",
    "result_matrix = np.array([t[1].tolist() for t in m])\n",
    "\n",
    "# Print the result\n",
    "print(result_matrix)\n",
    "print(result_matrix.T)"
   ]
  },
  {
   "cell_type": "code",
   "execution_count": null,
   "metadata": {},
   "outputs": [
    {
     "name": "stdout",
     "output_type": "stream",
     "text": [
      "[4 5 6 7 8]\n"
     ]
    }
   ],
   "source": [
    "print(np.arange(4,9))"
   ]
  },
  {
   "cell_type": "code",
   "execution_count": null,
   "metadata": {},
   "outputs": [
    {
     "name": "stdout",
     "output_type": "stream",
     "text": [
      "(3,)\n"
     ]
    }
   ],
   "source": [
    "t = np.zeros([3,3])\n",
    "print(t[0].shape)"
   ]
  },
  {
   "cell_type": "code",
   "execution_count": null,
   "metadata": {},
   "outputs": [
    {
     "name": "stdout",
     "output_type": "stream",
     "text": [
      "[[[False False False False]\n",
      "  [False False False False]\n",
      "  [False False False False]\n",
      "  [False False False False]]\n",
      "\n",
      " [[True True True True]\n",
      "  [True True True True]\n",
      "  [True True True True]\n",
      "  [True True True True]]\n",
      "\n",
      " [[False False False False]\n",
      "  [False False False False]\n",
      "  [False False False False]\n",
      "  [False False False False]]\n",
      "\n",
      " [[False False False False]\n",
      "  [False False False False]\n",
      "  [False False False False]\n",
      "  [False False False False]]]\n",
      "[[[False True False False]\n",
      "  [False True False False]\n",
      "  [False True False False]\n",
      "  [False True False False]]\n",
      "\n",
      " [[False True False False]\n",
      "  [False True False False]\n",
      "  [False True False False]\n",
      "  [False True False False]]\n",
      "\n",
      " [[False True False False]\n",
      "  [False True False False]\n",
      "  [False True False False]\n",
      "  [False True False False]]\n",
      "\n",
      " [[False True False False]\n",
      "  [False True False False]\n",
      "  [False True False False]\n",
      "  [False True False False]]]\n"
     ]
    }
   ],
   "source": [
    "kt = np.full((4, 4, 4), \"place holder\", dtype=object)\n",
    "k = list(zip(o_states, kt))\n",
    "\n",
    "for a in range(len(kt)):\n",
    "    k[a][1][:] = np.tile(df.iloc[0, 3], len(o_states)) == o_states[a]\n",
    "\n",
    "print(kt)\n",
    "print(kt.T)"
   ]
  },
  {
   "cell_type": "code",
   "execution_count": null,
   "metadata": {},
   "outputs": [
    {
     "name": "stdout",
     "output_type": "stream",
     "text": [
      "Array a:\n",
      "[1 2 3 4]\n",
      "\n",
      "Array b:\n",
      "[[ 0  1  2]\n",
      " [ 3  4  5]\n",
      " [ 6  7  8]\n",
      " [ 9 10 11]]\n",
      "\n",
      "Result after broadcasting:\n",
      "[[ 1  2  3]\n",
      " [ 5  6  7]\n",
      " [ 9 10 11]\n",
      " [13 14 15]]\n"
     ]
    }
   ],
   "source": [
    "# Array with shape (4,)\n",
    "a = np.array([1, 2, 3, 4])\n",
    "\n",
    "# Array with shape (4, 3)\n",
    "b = np.array([[0, 1, 2], [3, 4, 5], [6, 7, 8], [9, 10, 11]])\n",
    "\n",
    "# Add the arrays using broadcasting\n",
    "result = a[:, np.newaxis] + b\n",
    "\n",
    "print(\"Array a:\")\n",
    "print(a)\n",
    "print(\"\\nArray b:\")\n",
    "print(b)\n",
    "print(\"\\nResult after broadcasting:\")\n",
    "print(result)"
   ]
  },
  {
   "cell_type": "code",
   "execution_count": 24,
   "metadata": {},
   "outputs": [
    {
     "name": "stdout",
     "output_type": "stream",
     "text": [
      "(2, 2)\n",
      "(2, 2, 4)\n",
      "(1, 1, 4)\n"
     ]
    },
    {
     "ename": "ValueError",
     "evalue": "operands could not be broadcast together with shapes (2,2) (1,1,4) ",
     "output_type": "error",
     "traceback": [
      "\u001b[0;31m---------------------------------------------------------------------------\u001b[0m",
      "\u001b[0;31mValueError\u001b[0m                                Traceback (most recent call last)",
      "Cell \u001b[0;32mIn[24], line 11\u001b[0m\n\u001b[1;32m      8\u001b[0m \u001b[38;5;28mprint\u001b[39m(res\u001b[38;5;241m.\u001b[39mshape)\n\u001b[1;32m     10\u001b[0m \u001b[38;5;28mprint\u001b[39m(a[np\u001b[38;5;241m.\u001b[39mnewaxis, :]\u001b[38;5;241m.\u001b[39mshape)\n\u001b[0;32m---> 11\u001b[0m res \u001b[38;5;241m=\u001b[39m \u001b[43mobs\u001b[49m\u001b[43m \u001b[49m\u001b[38;5;241;43m&\u001b[39;49m\u001b[43m \u001b[49m\u001b[43ma\u001b[49m\u001b[43m[\u001b[49m\u001b[43mnp\u001b[49m\u001b[38;5;241;43m.\u001b[39;49m\u001b[43mnewaxis\u001b[49m\u001b[43m,\u001b[49m\u001b[43m \u001b[49m\u001b[43m:\u001b[49m\u001b[43m]\u001b[49m\n\u001b[1;32m     12\u001b[0m \u001b[38;5;28mprint\u001b[39m(res)\n",
      "\u001b[0;31mValueError\u001b[0m: operands could not be broadcast together with shapes (2,2) (1,1,4) "
     ]
    }
   ],
   "source": [
    "import numpy as np\n",
    "\n",
    "steps = 1\n",
    "obs = np.full((len(h_states),) * (steps + 1), 0, dtype=int)\n",
    "res = np.full((len(h_states),) * (steps + 1) + (4,), 0, dtype=int)\n",
    "a = np.full((1, 4), 0, dtype=int)\n",
    "print(obs.shape)\n",
    "print(res.shape)\n",
    "\n",
    "print(a[np.newaxis, :].shape)\n",
    "res = obs & a[np.newaxis, :]\n",
    "print(res)"
   ]
  },
  {
   "cell_type": "code",
   "execution_count": 49,
   "metadata": {},
   "outputs": [
    {
     "name": "stdout",
     "output_type": "stream",
     "text": [
      "[[[1]\n",
      "  [2]]\n",
      "\n",
      " [[3]\n",
      "  [4]]]\n",
      "[[[1 2 1 2 1 2 1 2]]\n",
      "\n",
      " [[3 4 3 4 3 4 3 4]]]\n"
     ]
    }
   ],
   "source": [
    "import numpy as np\n",
    "\n",
    "# Your original (2,2) matrix\n",
    "original_matrix = np.array([[1, 2], [3, 4]])\n",
    "print(original_matrix[:, :, np.newaxis])\n",
    "\n",
    "# Replicate each element 4 times\n",
    "result_matrix = np.tile(original_matrix[:, np.newaxis], 4)\n",
    "\n",
    "print(result_matrix)"
   ]
  },
  {
   "cell_type": "code",
   "execution_count": 44,
   "metadata": {},
   "outputs": [
    {
     "name": "stdout",
     "output_type": "stream",
     "text": [
      "(1, 2, 1)\n",
      "(2, 1, 2)\n",
      "[[False False]\n",
      " [ True  True]]\n"
     ]
    }
   ],
   "source": [
    "import numpy as np\n",
    "\n",
    "A = np.array([[True, False], [False, True]])  # Replace this with your (2, 2) matrix\n",
    "B = np.array([[False, True]])  # Replace this with your (1, 4) matrix\n",
    "result = np.zeros((2, 2))\n",
    "# Reshape B to (1, 4, 1) to match the shape of A\n",
    "B_reshaped = B.reshape(1, B.shape[1], 1)\n",
    "\n",
    "print(B_reshaped.shape)\n",
    "print(A[:, np.newaxis].shape)\n",
    "\n",
    "# Perform the bitwise AND operation using broadcasting\n",
    "A = np.tile(B.T, (1, 2))\n",
    "\n",
    "print(np.tile(B.T, (1, 2)))"
   ]
  },
  {
   "cell_type": "code",
   "execution_count": 56,
   "metadata": {},
   "outputs": [
    {
     "name": "stdout",
     "output_type": "stream",
     "text": [
      "[[[1 1 1 1 1 1]\n",
      "  [2 2 2 2 2 2]]\n",
      "\n",
      " [[3 3 3 3 3 3]\n",
      "  [4 4 4 4 4 4]]]\n",
      "[[[1 1 1 1 1 1]\n",
      "  [2 2 2 2 2 2]]\n",
      "\n",
      " [[3 3 3 3 3 3]\n",
      "  [4 4 4 4 4 4]]]\n"
     ]
    }
   ],
   "source": [
    "import numpy as np\n",
    "\n",
    "\n",
    "def replicate_elements(matrix, repetitions):\n",
    "    shape = matrix.shape\n",
    "    new_shape = shape + (repetitions,)\n",
    "    print(np.tile(matrix.reshape(shape + (1,)), repetitions))\n",
    "    return np.tile(matrix.reshape(shape + (1,)), repetitions).reshape(new_shape)\n",
    "\n",
    "\n",
    "# Example usage\n",
    "original_matrix = np.array([[1, 2], [3, 4]])\n",
    "result_matrix = replicate_elements(original_matrix, 6)\n",
    "\n",
    "print(result_matrix)"
   ]
  },
  {
   "cell_type": "code",
   "execution_count": null,
   "metadata": {},
   "outputs": [],
   "source": []
  }
 ],
 "metadata": {
  "kernelspec": {
   "display_name": "Python 3",
   "language": "python",
   "name": "python3"
  },
  "language_info": {
   "codemirror_mode": {
    "name": "ipython",
    "version": 3
   },
   "file_extension": ".py",
   "mimetype": "text/x-python",
   "name": "python",
   "nbconvert_exporter": "python",
   "pygments_lexer": "ipython3",
   "version": "3.10.12"
  }
 },
 "nbformat": 4,
 "nbformat_minor": 2
}
